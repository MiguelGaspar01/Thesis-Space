{
 "cells": [
  {
   "cell_type": "code",
   "execution_count": 1,
   "id": "444a49bd-270c-4174-8a95-e94d53f0f235",
   "metadata": {},
   "outputs": [],
   "source": [
    "import pandas as pd\n",
    "import numpy as np\n",
    "import matplotlib.pyplot as plt\n",
    "import seaborn as sns\n",
    "\n",
    "import torch\n",
    "#pip install git+https://github.com/KindXiaoming/pykan.git\n",
    "import sys\n"
   ]
  },
  {
   "cell_type": "code",
   "execution_count": 2,
   "id": "5ed6d0c0-22ce-4494-967a-a09a640ae412",
   "metadata": {},
   "outputs": [],
   "source": [
    "import random\n",
    "import numpy as np\n",
    "import torch\n",
    "import os\n",
    "\n",
    "def set_global_seed(seed=42):\n",
    "    \"\"\"Set seed for reproducibility across NumPy, PyTorch, and OS operations.\"\"\"\n",
    "    \n",
    "    # Set Python random seed\n",
    "    random.seed(seed)\n",
    "    \n",
    "    # Set NumPy random seed\n",
    "    np.random.seed(seed)\n",
    "    \n",
    "    # Set PyTorch random seed\n",
    "    torch.manual_seed(seed)\n",
    "    torch.cuda.manual_seed_all(seed)  # If using CUDA\n",
    "    \n",
    "    # Ensure deterministic behavior in PyTorch (optional, can slow training)\n",
    "    torch.backends.cudnn.deterministic = True\n",
    "    torch.backends.cudnn.benchmark = False\n",
    "    \n",
    "    # Set environment variable for other libraries\n",
    "    os.environ[\"PYTHONHASHSEED\"] = str(seed)\n",
    "\n",
    "# Set global seed\n",
    "set_global_seed(42)\n"
   ]
  },
  {
   "cell_type": "code",
   "execution_count": 3,
   "id": "8f75fa4e-1729-49f1-a197-a9b40368377b",
   "metadata": {},
   "outputs": [],
   "source": [
    "test_data_X = pd.read_csv(r\"C:\\Users\\ADMIN\\Desktop\\Thesis Space Desktop\\Data After Preprocess\\processed_test_data_X_data.csv\")\n",
    "train_data_X = pd.read_csv(r\"C:\\Users\\ADMIN\\Desktop\\Thesis Space Desktop\\Data After Preprocess\\processed_train_data_X_data.csv\")\n",
    "test_labels_encoded = pd.read_csv(r\"C:\\Users\\ADMIN\\Desktop\\Thesis Space Desktop\\Data After Preprocess\\processed_test_data_y_data.csv\")\n",
    "train_labels_encoded = pd.read_csv(r\"C:\\Users\\ADMIN\\Desktop\\Thesis Space Desktop\\Data After Preprocess\\processed_train_data_y_data.csv\")"
   ]
  },
  {
   "cell_type": "code",
   "execution_count": 4,
   "id": "6fb2e4ac-d59e-4e27-9f18-e9f0aa674362",
   "metadata": {},
   "outputs": [],
   "source": [
    "train_data_y_binary = train_labels_encoded[\"label\"]\n",
    "test_data_y_binary = test_labels_encoded[\"label\"]"
   ]
  },
  {
   "cell_type": "code",
   "execution_count": 5,
   "id": "f99b6b96-c4ea-456f-85e0-d275caa8a00e",
   "metadata": {},
   "outputs": [],
   "source": [
    "#train_data_X = np.clip(train_data_X,0,1)\n",
    "#test_data_X = np.clip(test_data_X,0,1)"
   ]
  },
  {
   "cell_type": "code",
   "execution_count": 6,
   "id": "d32a12a0-caa3-4e41-98f8-e89a7075914c",
   "metadata": {},
   "outputs": [
    {
     "data": {
      "text/html": [
       "<div>\n",
       "<style scoped>\n",
       "    .dataframe tbody tr th:only-of-type {\n",
       "        vertical-align: middle;\n",
       "    }\n",
       "\n",
       "    .dataframe tbody tr th {\n",
       "        vertical-align: top;\n",
       "    }\n",
       "\n",
       "    .dataframe thead th {\n",
       "        text-align: right;\n",
       "    }\n",
       "</style>\n",
       "<table border=\"1\" class=\"dataframe\">\n",
       "  <thead>\n",
       "    <tr style=\"text-align: right;\">\n",
       "      <th></th>\n",
       "      <th>attack_cat</th>\n",
       "      <th>label</th>\n",
       "    </tr>\n",
       "  </thead>\n",
       "  <tbody>\n",
       "    <tr>\n",
       "      <th>0</th>\n",
       "      <td>6</td>\n",
       "      <td>0.0</td>\n",
       "    </tr>\n",
       "    <tr>\n",
       "      <th>1</th>\n",
       "      <td>6</td>\n",
       "      <td>0.0</td>\n",
       "    </tr>\n",
       "    <tr>\n",
       "      <th>2</th>\n",
       "      <td>6</td>\n",
       "      <td>0.0</td>\n",
       "    </tr>\n",
       "    <tr>\n",
       "      <th>3</th>\n",
       "      <td>6</td>\n",
       "      <td>0.0</td>\n",
       "    </tr>\n",
       "    <tr>\n",
       "      <th>4</th>\n",
       "      <td>6</td>\n",
       "      <td>0.0</td>\n",
       "    </tr>\n",
       "    <tr>\n",
       "      <th>...</th>\n",
       "      <td>...</td>\n",
       "      <td>...</td>\n",
       "    </tr>\n",
       "    <tr>\n",
       "      <th>175336</th>\n",
       "      <td>5</td>\n",
       "      <td>1.0</td>\n",
       "    </tr>\n",
       "    <tr>\n",
       "      <th>175337</th>\n",
       "      <td>8</td>\n",
       "      <td>1.0</td>\n",
       "    </tr>\n",
       "    <tr>\n",
       "      <th>175338</th>\n",
       "      <td>5</td>\n",
       "      <td>1.0</td>\n",
       "    </tr>\n",
       "    <tr>\n",
       "      <th>175339</th>\n",
       "      <td>5</td>\n",
       "      <td>1.0</td>\n",
       "    </tr>\n",
       "    <tr>\n",
       "      <th>175340</th>\n",
       "      <td>5</td>\n",
       "      <td>1.0</td>\n",
       "    </tr>\n",
       "  </tbody>\n",
       "</table>\n",
       "<p>175341 rows × 2 columns</p>\n",
       "</div>"
      ],
      "text/plain": [
       "        attack_cat  label\n",
       "0                6    0.0\n",
       "1                6    0.0\n",
       "2                6    0.0\n",
       "3                6    0.0\n",
       "4                6    0.0\n",
       "...            ...    ...\n",
       "175336           5    1.0\n",
       "175337           8    1.0\n",
       "175338           5    1.0\n",
       "175339           5    1.0\n",
       "175340           5    1.0\n",
       "\n",
       "[175341 rows x 2 columns]"
      ]
     },
     "execution_count": 6,
     "metadata": {},
     "output_type": "execute_result"
    }
   ],
   "source": [
    "train_labels_encoded"
   ]
  },
  {
   "cell_type": "code",
   "execution_count": 7,
   "id": "7dbdef64-5462-455b-96fa-863d4b36bdb0",
   "metadata": {},
   "outputs": [
    {
     "data": {
      "text/plain": [
       "attack_cat  label\n",
       "6           0.0      56000\n",
       "5           1.0      40000\n",
       "3           1.0      33393\n",
       "4           1.0      18184\n",
       "2           1.0      12264\n",
       "7           1.0      10491\n",
       "0           1.0       2000\n",
       "1           1.0       1746\n",
       "8           1.0       1133\n",
       "9           1.0        130\n",
       "Name: count, dtype: int64"
      ]
     },
     "execution_count": 7,
     "metadata": {},
     "output_type": "execute_result"
    }
   ],
   "source": [
    "train_labels_encoded.value_counts()"
   ]
  },
  {
   "cell_type": "code",
   "execution_count": 8,
   "id": "bd2c096b-e87b-4597-a60e-d432d11ad8fc",
   "metadata": {},
   "outputs": [],
   "source": [
    "target_distribution = {\n",
    "    0: 20000,  # Class 0 should have 56000 samples\n",
    "    1: 20000,  # Class 1 should have 56000 samples\n",
    "    2: 30000,  # Class 2 should have 56000 samples\n",
    "    3: 34000,  # Class 3 should have 56000 samples\n",
    "    4: 30000,  # Class 4 should have 56000 samples\n",
    "    5: 41000,  # Class 5 should have 56000 samples\n",
    "    6: 56000,  # Class 6 should have 56000 samples\n",
    "    7: 30000,  # Class 7 should have 56000 samples\n",
    "    8: 20000,  # Class 8 should have 56000 samples\n",
    "    9: 10000,  # Class 9 should have 56000 samples\n",
    "}"
   ]
  },
  {
   "cell_type": "markdown",
   "id": "03bae611-6e41-45ec-93de-712ad2cefa5a",
   "metadata": {},
   "source": [
    "# Resampling"
   ]
  },
  {
   "cell_type": "code",
   "execution_count": 9,
   "id": "45addaf4-c17e-4cb2-94b3-a5c6629a8ef6",
   "metadata": {},
   "outputs": [],
   "source": [
    "from imblearn.under_sampling import RandomUnderSampler\n",
    "from imblearn.over_sampling import ADASYN\n",
    "from imblearn.pipeline import Pipeline\n",
    "import numpy as np\n",
    "\n",
    "# Current class distribution\n",
    "unique, counts = np.unique(train_labels_encoded, return_counts=True)\n",
    "class_distribution = dict(zip(unique, counts))\n",
    "\n",
    "majority_class = 6\n",
    "majority_target_size = class_distribution[majority_class] // 3\n",
    "\n",
    "# Define the target size for the minority classes (e.g., match the majority target size)\n",
    "target_distribution = {cls: majority_target_size for cls in unique}\n",
    "\n",
    "# Step 1: Under-sample the majority class\n",
    "under_sampler = RandomUnderSampler(sampling_strategy={majority_class: majority_target_size}, random_state=42)\n",
    "#train_data_X, train_labels_encoded = under_sampler.fit_resample(train_data_X, train_labels_encoded)"
   ]
  },
  {
   "cell_type": "code",
   "execution_count": 10,
   "id": "96863f09-6fdd-47a1-aa2a-0c75a380e1ab",
   "metadata": {},
   "outputs": [],
   "source": [
    "from imblearn.under_sampling import RandomUnderSampler\n",
    "from imblearn.over_sampling import ADASYN\n",
    "from imblearn.pipeline import Pipeline\n",
    "import numpy as np\n",
    "\n",
    "# Current class distribution\n",
    "unique, counts = np.unique(train_labels_encoded, return_counts=True)\n",
    "class_distribution = dict(zip(unique, counts))\n",
    "\n",
    "majority_class = 5\n",
    "majority_target_size = class_distribution[majority_class] // 3\n",
    "\n",
    "# Define the target size for the minority classes (e.g., match the majority target size)\n",
    "target_distribution = {cls: majority_target_size for cls in unique}\n",
    "\n",
    "# Step 1: Under-sample the majority class\n",
    "under_sampler = RandomUnderSampler(sampling_strategy={majority_class: majority_target_size}, random_state=42)\n",
    "#train_data_X, train_labels_encoded = under_sampler.fit_resample(train_data_X, train_labels_encoded)"
   ]
  },
  {
   "cell_type": "code",
   "execution_count": 11,
   "id": "011c575f-d547-4b41-84c0-1af4ba290d26",
   "metadata": {},
   "outputs": [
    {
     "data": {
      "text/plain": [
       "attack_cat\n",
       "6    56000\n",
       "5    40000\n",
       "3    33393\n",
       "4    18184\n",
       "2    12264\n",
       "7    10491\n",
       "0     2000\n",
       "1     1746\n",
       "8     1133\n",
       "9      130\n",
       "Name: count, dtype: int64"
      ]
     },
     "execution_count": 11,
     "metadata": {},
     "output_type": "execute_result"
    }
   ],
   "source": [
    "train_labels_encoded[\"attack_cat\"].value_counts()"
   ]
  },
  {
   "cell_type": "code",
   "execution_count": 12,
   "id": "5b95a23d-e0ba-48a9-8e8f-a76411be9638",
   "metadata": {},
   "outputs": [],
   "source": [
    "test_data_y = test_labels_encoded[\"attack_cat\"]"
   ]
  },
  {
   "cell_type": "code",
   "execution_count": 13,
   "id": "901db99f-954c-4b86-bcd8-af1845f20941",
   "metadata": {},
   "outputs": [],
   "source": [
    "from imblearn.under_sampling import EditedNearestNeighbours"
   ]
  },
  {
   "cell_type": "code",
   "execution_count": 14,
   "id": "b7c45b32-8a1e-4e15-a328-d2da3f718461",
   "metadata": {},
   "outputs": [],
   "source": [
    "from collections import Counter\n",
    "from sklearn.datasets import make_classification\n",
    "from imblearn.under_sampling import EditedNearestNeighbours\n",
    "#ENN reduces the majority class by keeping only well separated instances\n",
    "enn = EditedNearestNeighbours(sampling_strategy = \"majority\", n_neighbors = 3)\n",
    "#train_data_X, train_data_y = enn.fit_resample(train_data_X, train_labels_encoded)"
   ]
  },
  {
   "cell_type": "code",
   "execution_count": 15,
   "id": "8af5f4e3-48a5-4a60-b951-1cb02855acdf",
   "metadata": {},
   "outputs": [],
   "source": [
    "#train_data_y.value_counts()"
   ]
  },
  {
   "cell_type": "code",
   "execution_count": 16,
   "id": "102d84fa-c8e2-425c-84f8-25b8a6272498",
   "metadata": {},
   "outputs": [],
   "source": [
    "from imblearn.over_sampling import ADASYN\n",
    "\n",
    "adasyn = ADASYN(sampling_strategy = \"minority\", random_state=42, n_neighbors= 3)\n",
    "#train_data_X,train_data_y = adasyn.fit_resample(train_data_X, train_data_y)"
   ]
  },
  {
   "cell_type": "code",
   "execution_count": 17,
   "id": "0da2d9fc-1ea8-4570-8c1c-073cd9455e48",
   "metadata": {},
   "outputs": [],
   "source": [
    "from imblearn.combine import SMOTEENN\n",
    "\n",
    "# Combine SMOTE (oversampling) and ENN (cleaning majority class)\n",
    "#smote_enn = SMOTEENN(sampling_strategy=\"not majority\", enn = enn, random_state=42,n_neighbors = 5)\n",
    "\n",
    "# Apply SMOTEENN\n",
    "#train_data_X, train_data_y = smote_enn.fit_resample(train_data_X, train_data_y)\n",
    "\n",
    "# Check the class distribution after resampling\n",
    "from collections import Counter\n",
    "#print(f\"Class distribution after resampling: {Counter(train_data_y)}\")"
   ]
  },
  {
   "cell_type": "code",
   "execution_count": 18,
   "id": "2a731f3a-ba64-42b5-96f6-c1dcb5183fe6",
   "metadata": {},
   "outputs": [],
   "source": [
    "train_data_y = train_labels_encoded[\"attack_cat\"]"
   ]
  },
  {
   "cell_type": "code",
   "execution_count": null,
   "id": "6fc4374a-08e4-4ef5-ae4d-28e91f23e8d2",
   "metadata": {},
   "outputs": [],
   "source": []
  },
  {
   "cell_type": "code",
   "execution_count": 19,
   "id": "46c173ce-09da-44d1-9c68-8d351f7e5ce3",
   "metadata": {},
   "outputs": [
    {
     "data": {
      "text/plain": [
       "label\n",
       "1.0    119341\n",
       "0.0     56000\n",
       "Name: count, dtype: int64"
      ]
     },
     "execution_count": 19,
     "metadata": {},
     "output_type": "execute_result"
    }
   ],
   "source": [
    "train_data_y_binary.value_counts()"
   ]
  },
  {
   "cell_type": "markdown",
   "id": "d9a52f54-b0d2-4d50-aad1-43bcbf2637fb",
   "metadata": {},
   "source": [
    "# Feature Selection"
   ]
  },
  {
   "cell_type": "code",
   "execution_count": 20,
   "id": "486b73a0-a8b5-459b-acca-6894afffdd9d",
   "metadata": {},
   "outputs": [
    {
     "data": {
      "image/png": "[encoded data removed]",
      "text/plain": [
       "<Figure size 800x1000 with 1 Axes>"
      ]
     },
     "metadata": {},
     "output_type": "display_data"
    }
   ],
   "source": [
    "from sklearn.ensemble import RandomForestClassifier\n",
    "\n",
    "rf_classifier = RandomForestClassifier(random_state=15)\n",
    "numeric_cols = train_data_X.select_dtypes(include = \"number\")\n",
    "rf_classifier.fit(numeric_cols, train_data_y_binary.values.ravel())\n",
    "\n",
    "feature_importances = pd.Series(rf_classifier.feature_importances_, index=numeric_cols.columns)\n",
    "\n",
    "def plot_importance(coef, name):\n",
    "    imp_coef = coef.sort_values()\n",
    "    plt.figure(figsize=(8,10))\n",
    "    imp_coef.plot(kind=\"barh\")\n",
    "    plt.title(\"Feature importance using \" + name + \" Model\")\n",
    "    plt.show()\n",
    "\n",
    "plot_importance(feature_importances, 'Random Forest')"
   ]
  },
  {
   "cell_type": "code",
   "execution_count": 21,
   "id": "39e9a23a-0d26-4f7f-bdc9-a59255c48132",
   "metadata": {},
   "outputs": [
    {
     "data": {
      "text/plain": [
       "encoder__proto_arp              0.007485\n",
       "encoder__proto_ospf             0.000821\n",
       "encoder__proto_sctp             0.000970\n",
       "encoder__proto_tcp              0.004121\n",
       "encoder__proto_udp              0.001721\n",
       "encoder__proto_unas             0.000107\n",
       "encoder__service_dns            0.001151\n",
       "encoder__service_ftp            0.000302\n",
       "encoder__service_ftp-data       0.000259\n",
       "encoder__service_http           0.001853\n",
       "encoder__service_smtp           0.000048\n",
       "encoder__state_CON              0.003135\n",
       "encoder__state_ECO              0.000071\n",
       "encoder__state_FIN              0.001124\n",
       "encoder__state_INT              0.025053\n",
       "encoder__state_REQ              0.000870\n",
       "encoder__state_RST              0.000019\n",
       "remainder__dur                  0.029045\n",
       "remainder__spkts                0.008406\n",
       "remainder__dpkts                0.022752\n",
       "remainder__sbytes               0.032696\n",
       "remainder__dbytes               0.020833\n",
       "remainder__rate                 0.041105\n",
       "remainder__sttl                 0.192336\n",
       "remainder__dttl                 0.063237\n",
       "remainder__sload                0.046168\n",
       "remainder__dload                0.058439\n",
       "remainder__sloss                0.006124\n",
       "remainder__dloss                0.003211\n",
       "remainder__sinpkt               0.029249\n",
       "remainder__dinpkt               0.020689\n",
       "remainder__sjit                 0.015152\n",
       "remainder__djit                 0.013698\n",
       "remainder__swin                 0.004271\n",
       "remainder__stcpb                0.008178\n",
       "remainder__dtcpb                0.007255\n",
       "remainder__dwin                 0.000703\n",
       "remainder__tcprtt               0.034123\n",
       "remainder__synack               0.026134\n",
       "remainder__ackdat               0.022152\n",
       "remainder__smean                0.022874\n",
       "remainder__dmean                0.026022\n",
       "remainder__trans_depth          0.001501\n",
       "remainder__response_body_len    0.001630\n",
       "remainder__ct_srv_src           0.022865\n",
       "remainder__ct_state_ttl         0.085620\n",
       "remainder__ct_dst_ltm           0.008385\n",
       "remainder__ct_src_dport_ltm     0.005925\n",
       "remainder__ct_dst_sport_ltm     0.005026\n",
       "remainder__ct_dst_src_ltm       0.020593\n",
       "remainder__is_ftp_login         0.000108\n",
       "remainder__ct_ftp_cmd           0.000089\n",
       "remainder__ct_flw_http_mthd     0.001524\n",
       "remainder__ct_src_ltm           0.007749\n",
       "remainder__ct_srv_dst           0.028563\n",
       "remainder__is_sm_ips_ports      0.006460\n",
       "dtype: float64"
      ]
     },
     "execution_count": 21,
     "metadata": {},
     "output_type": "execute_result"
    }
   ],
   "source": [
    "feature_importances"
   ]
  },
  {
   "cell_type": "code",
   "execution_count": 22,
   "id": "4f599f8b-d01b-4450-9d58-f774daf505af",
   "metadata": {},
   "outputs": [],
   "source": [
    "top_40_features = [\n",
    "    \"sttl\",\n",
    "    \"PC1\",\n",
    "    \"dttl\",\n",
    "    \"ct_dst_src_ltm\",\n",
    "    \"ct_dst_ltm\",\n",
    "    \"ct_dst_sport_ltm\",\n",
    "    \"ct_state_ttl\",\n",
    "    \"ct_src_dport_ltm\",\n",
    "    \"ct_src_ltm\",\n",
    "    \"ct_srv_dst\",\n",
    "    \"ct_srv_src\",\n",
    "    \"ackdat\",\n",
    "    \"tcprtt\",\n",
    "    \"sbytes\",\n",
    "    \"smean\",\n",
    "    \"dload\",\n",
    "    \"rate\",\n",
    "    \"dmean\",\n",
    "    \"dur\",\n",
    "    \"PC3\",\n",
    "    \"PC10\",\n",
    "    \"dbytes\",\n",
    "    \"synack\",\n",
    "    \"PC2\",\n",
    "    \"ct_flw_http_mthd\",\n",
    "    \"trans_depth\",\n",
    "    \"PC4\",\n",
    "    \"sload\",\n",
    "    \"PC5\",\n",
    "    \"sinpkt\",\n",
    "    \"PC8\",\n",
    "    \"spkts\",\n",
    "    \"dpkts\",\n",
    "    \"PC9\",\n",
    "    \"sloss\",\n",
    "    \"sjit\",\n",
    "    \"PC7\",\n",
    "    \"dloss\",\n",
    "    \"dwin\",\n",
    "    \"swin\"\n",
    "]"
   ]
  },
  {
   "cell_type": "code",
   "execution_count": 23,
   "id": "72805ac9-20ef-4b74-be70-1e6bdf82cba4",
   "metadata": {},
   "outputs": [],
   "source": [
    "from sklearn.feature_selection import f_classif #computes ANOVA \n",
    "from sklearn.feature_selection import SelectKBest  #Orders f statistics and selects the Kbest ones\n",
    "\n",
    "def anova_test():\n",
    "\n",
    "    \n",
    "    X_vars = train_data_X[train_data_X.select_dtypes(include='number').columns]\n",
    "    \n",
    "    y_var = train_data_y_binary\n",
    "    \n",
    "    anova = SelectKBest(f_classif, k=40) #we choose to keep the 10 best ones, try different numbers\n",
    "    \n",
    "    \n",
    "    X_anova = anova.fit_transform(X_vars, y_var)\n",
    "    \n",
    "    anova_results = pd.DataFrame({'Feature': X_vars.columns, \n",
    "                                  'F-value': anova.scores_,\n",
    "                                  'p-value': anova.pvalues_})\n",
    "    \n",
    "    anova_results.sort_values(by='F-value', ascending=False, inplace=True)\n",
    "\n",
    "    \n",
    "    selected_features = pd.Series(anova.get_support(), index = X_vars.columns)\n",
    "    features_to_use = [feature for feature, keep in selected_features.items() if keep]\n",
    "\n",
    "    features_to_use_str = '\", \"'.join(features_to_use)\n",
    "    \n",
    "    return selected_features, anova_results, features_to_use_str,features_to_use"
   ]
  },
  {
   "cell_type": "code",
   "execution_count": 24,
   "id": "274cf472-2ba7-457e-9b57-19cbec027843",
   "metadata": {},
   "outputs": [],
   "source": [
    "selected_features, anova_results, features_to_use_str,features_to_use = anova_test()"
   ]
  },
  {
   "cell_type": "code",
   "execution_count": 25,
   "id": "03d62f5e-a44a-4930-9c89-85e4d3f84270",
   "metadata": {},
   "outputs": [],
   "source": [
    "features = features_to_use"
   ]
  },
  {
   "cell_type": "markdown",
   "id": "a4fec4c1-e780-4ade-b035-e8e6469310af",
   "metadata": {},
   "source": [
    "# Modelling"
   ]
  },
  {
   "cell_type": "markdown",
   "id": "e035c2ae-2be5-4249-bb01-77bc7d29585d",
   "metadata": {},
   "source": [
    "## Modelling EfficentKan"
   ]
  },
  {
   "cell_type": "code",
   "execution_count": 26,
   "id": "58ccf7cd-d4f0-49f5-9b06-ed0b2d444d85",
   "metadata": {},
   "outputs": [],
   "source": [
    "#train_X_tensor = torch.tensor(train_data_X[features].values, dtype=torch.float32).squeeze()\n",
    "#test_X_tensor = torch.tensor(test_data_X[features].values, dtype=torch.float32).squeeze() #changed to have all features\n",
    "\n",
    "train_X_tensor = torch.tensor(train_data_X[features_to_use].values, dtype=torch.float32).squeeze()\n",
    "test_X_tensor = torch.tensor(test_data_X[features_to_use].values, dtype=torch.float32).squeeze()\n",
    "\n",
    "train_Y_tensor = torch.tensor(train_data_y_binary.values, dtype=torch.float).squeeze()\n",
    "\n",
    "test_Y_tensor = torch.tensor(test_data_y_binary.values, dtype=torch.float).squeeze()\n",
    "#a dictionary with the 4 datasets"
   ]
  },
  {
   "cell_type": "code",
   "execution_count": 27,
   "id": "f088bf32-41d7-4485-b95c-0c53fd241d74",
   "metadata": {},
   "outputs": [
    {
     "data": {
      "text/plain": [
       "encoder__proto_arp              0.0\n",
       "encoder__proto_ospf             0.0\n",
       "encoder__proto_sctp             0.0\n",
       "encoder__proto_tcp              0.0\n",
       "encoder__proto_udp              0.0\n",
       "encoder__proto_unas             0.0\n",
       "encoder__service_dns            0.0\n",
       "encoder__service_ftp            0.0\n",
       "encoder__service_ftp-data       0.0\n",
       "encoder__service_http           0.0\n",
       "encoder__service_smtp           0.0\n",
       "encoder__state_CON              0.0\n",
       "encoder__state_ECO              0.0\n",
       "encoder__state_FIN              0.0\n",
       "encoder__state_INT              0.0\n",
       "encoder__state_REQ              0.0\n",
       "encoder__state_RST              0.0\n",
       "remainder__dur                  0.0\n",
       "remainder__spkts                0.0\n",
       "remainder__dpkts                0.0\n",
       "remainder__sbytes               0.0\n",
       "remainder__dbytes               0.0\n",
       "remainder__rate                 0.0\n",
       "remainder__sttl                 0.0\n",
       "remainder__dttl                 0.0\n",
       "remainder__sload                0.0\n",
       "remainder__dload                0.0\n",
       "remainder__sloss                0.0\n",
       "remainder__dloss                0.0\n",
       "remainder__sinpkt               0.0\n",
       "remainder__dinpkt               0.0\n",
       "remainder__sjit                 0.0\n",
       "remainder__djit                 0.0\n",
       "remainder__swin                 0.0\n",
       "remainder__stcpb                0.0\n",
       "remainder__dtcpb                0.0\n",
       "remainder__dwin                 0.0\n",
       "remainder__tcprtt               0.0\n",
       "remainder__synack               0.0\n",
       "remainder__ackdat               0.0\n",
       "remainder__smean                0.0\n",
       "remainder__dmean                0.0\n",
       "remainder__trans_depth          0.0\n",
       "remainder__response_body_len    0.0\n",
       "remainder__ct_srv_src           0.0\n",
       "remainder__ct_state_ttl         0.0\n",
       "remainder__ct_dst_ltm           0.0\n",
       "remainder__ct_src_dport_ltm     0.0\n",
       "remainder__ct_dst_sport_ltm     0.0\n",
       "remainder__ct_dst_src_ltm       0.0\n",
       "remainder__is_ftp_login         0.0\n",
       "remainder__ct_ftp_cmd           0.0\n",
       "remainder__ct_flw_http_mthd     0.0\n",
       "remainder__ct_src_ltm           0.0\n",
       "remainder__ct_srv_dst           0.0\n",
       "remainder__is_sm_ips_ports      0.0\n",
       "dtype: float64"
      ]
     },
     "execution_count": 27,
     "metadata": {},
     "output_type": "execute_result"
    }
   ],
   "source": [
    "test_data_X.min()"
   ]
  },
  {
   "cell_type": "code",
   "execution_count": 28,
   "id": "c7553f77-b35a-454b-9053-7b9972d00fa3",
   "metadata": {},
   "outputs": [
    {
     "name": "stdout",
     "output_type": "stream",
     "text": [
      "Shape of test_X_tensor: torch.Size([82332, 40])\n",
      "Shape of test_Y_tensor: torch.Size([82332])\n"
     ]
    }
   ],
   "source": [
    "print(\"Shape of test_X_tensor:\", test_X_tensor.shape)\n",
    "print(\"Shape of test_Y_tensor:\", test_Y_tensor.shape)"
   ]
  },
  {
   "cell_type": "code",
   "execution_count": 29,
   "id": "1357325e-6c3f-4696-ac8c-9c4ab4c8a290",
   "metadata": {},
   "outputs": [],
   "source": [
    "from torch import nn\n",
    "from torch.utils.data import TensorDataset\n",
    "from torch.utils.data import DataLoader"
   ]
  },
  {
   "cell_type": "code",
   "execution_count": 30,
   "id": "5b9c01a6-69d2-466f-88eb-3bfa57eee8ea",
   "metadata": {},
   "outputs": [],
   "source": [
    "\n",
    "# Create TensorDatasets\n",
    "train_dataset = TensorDataset(train_X_tensor, train_Y_tensor)\n",
    "test_dataset = TensorDataset(test_X_tensor, test_Y_tensor)\n"
   ]
  },
  {
   "cell_type": "code",
   "execution_count": 31,
   "id": "e638f1d3-b977-41bb-b150-6698ce803af9",
   "metadata": {},
   "outputs": [],
   "source": [
    "train_dataloader = DataLoader(train_dataset, batch_size=16, shuffle=True)\n",
    "test_dataloader = DataLoader(test_dataset, batch_size=16, shuffle=False)"
   ]
  },
  {
   "cell_type": "markdown",
   "id": "2519ea5f-6950-458e-aaae-c3d4aae9ecf0",
   "metadata": {},
   "source": [
    "## Modelling with efficient Kan"
   ]
  },
  {
   "cell_type": "code",
   "execution_count": 32,
   "id": "6e2a8d00-9e61-4d23-b6d7-c0b81cf1312d",
   "metadata": {},
   "outputs": [],
   "source": [
    "#\n"
   ]
  },
  {
   "cell_type": "code",
   "execution_count": 33,
   "id": "4c90c1ca-27d1-4494-9b5b-d6ec3020f743",
   "metadata": {},
   "outputs": [],
   "source": [
    "from efficient_kan import KAN"
   ]
  },
  {
   "cell_type": "code",
   "execution_count": 34,
   "id": "3c4eaf5f-fbfd-4db6-b316-e5b93ee0a55d",
   "metadata": {},
   "outputs": [],
   "source": [
    "import torch\n",
    "import torch.nn as nn\n",
    "import torch.optim as optim\n",
    "import torchvision\n",
    "from torch.utils.data import DataLoader\n",
    "from tqdm import tqdm\n",
    "\n",
    "# Define model\n",
    "model = KAN([40, 64, 10])\n",
    "device = torch.device(\"cuda\" if torch.cuda.is_available() else \"cpu\")\n",
    "model.to(device)\n",
    "\n",
    "# Define optimizer\n",
    "optimizer = optim.AdamW(model.parameters(), lr=1e-3, weight_decay=1e-4)\n",
    "# Define learning rate scheduler\n",
    "scheduler = optim.lr_scheduler.ExponentialLR(optimizer, gamma=0.8)\n",
    "\n",
    "# Define loss\n",
    "criterion = nn.CrossEntropyLoss()"
   ]
  },
  {
   "cell_type": "code",
   "execution_count": 35,
   "id": "c8606303-5979-499a-9480-020063f0530e",
   "metadata": {},
   "outputs": [
    {
     "data": {
      "text/plain": [
       "(5, 3)"
      ]
     },
     "execution_count": 35,
     "metadata": {},
     "output_type": "execute_result"
    }
   ],
   "source": [
    "model.grid_size, model.spline_order"
   ]
  },
  {
   "cell_type": "code",
   "execution_count": 36,
   "id": "00e210a4-fe86-4b81-813b-4ddfc926ecbe",
   "metadata": {},
   "outputs": [],
   "source": [
    "from sklearn.model_selection import KFold"
   ]
  },
  {
   "cell_type": "code",
   "execution_count": 52,
   "id": "370ae572-eb21-41d2-b309-d7526d5413cd",
   "metadata": {},
   "outputs": [],
   "source": [
    "model = KAN([40, 20,10, 5,1],grid_size = 4, spline_order = 2, scale_noise=0.2, scale_base=0.2, scale_spline=0.2)"
   ]
  },
  {
   "cell_type": "code",
   "execution_count": 53,
   "id": "6d53a788-40a9-46d1-b42e-dc9948a173d9",
   "metadata": {},
   "outputs": [],
   "source": [
    "from sklearn.metrics import f1_score\n",
    "import torch\n",
    "import torch.nn as nn\n",
    "\n",
    "# Initialize lists to store mean losses over epochs\n",
    "loss_over_train = []\n",
    "loss_over_test = []\n",
    "\n",
    "\n",
    "def train_loop(dataloader, model, loss_fn, optimizer):\n",
    "    size = len(dataloader.dataset)\n",
    "    correct = 0  # For accuracy tracking\n",
    "    total = 0\n",
    "    epoch_loss = 0\n",
    "    \n",
    "    model.train()\n",
    "    for batch, (X, y) in enumerate(dataloader):\n",
    "        # Ensure target labels are float tensors\n",
    "        y = y.float()\n",
    "\n",
    "        # Compute prediction and apply sigmoid\n",
    "        pred = model(X)  # Shape: [batch_size, 1]\n",
    "        pred = torch.sigmoid(pred).squeeze()  # Apply sigmoid and reshape to [batch_size]\n",
    "\n",
    "        # Compute loss\n",
    "        loss = loss_fn(pred, y)\n",
    "\n",
    "        # Backpropagation\n",
    "        optimizer.zero_grad()\n",
    "        loss.backward()\n",
    "        optimizer.step()\n",
    "\n",
    "        epoch_loss += loss.item()\n",
    "\n",
    "        if batch % 100 == 0:\n",
    "            loss, current = loss.item(), batch * len(X)\n",
    "            print(f\"loss: {loss:>7f}  [{current:>5d}/{size:>5d}]\")\n",
    "\n",
    "        # Calculate accuracy\n",
    "        predicted = (pred > 0.5).float()  # Convert probabilities to binary predictions\n",
    "        correct += (predicted == y).sum().item()\n",
    "        total += y.size(0)\n",
    "        \n",
    "    mean_loss = epoch_loss / len(dataloader) \n",
    "    loss_over_train.append(mean_loss)\n",
    "\n",
    "    accuracy = correct / total * 100\n",
    "    print(f\"Train Accuracy: {accuracy:.4f}%\")\n",
    "\n",
    "def test_loop(dataloader, model, loss_fn):\n",
    "    model.eval()  # Set the model to evaluation mode\n",
    "    size = len(dataloader.dataset)\n",
    "    num_batches = len(dataloader)\n",
    "    test_loss, correct = 0, 0\n",
    "    all_preds = []\n",
    "    all_labels = []\n",
    "\n",
    "    with torch.no_grad():\n",
    "        for X, y in dataloader:\n",
    "            # Ensure target labels are float tensors\n",
    "            y = y.float()\n",
    "\n",
    "            # Compute prediction and apply sigmoid\n",
    "            pred = model(X)  # Shape: [batch_size, 1]\n",
    "            pred = torch.sigmoid(pred).squeeze()  # Apply sigmoid and reshape to [batch_size]\n",
    "\n",
    "            # Compute loss\n",
    "            test_loss += loss_fn(pred, y).item()\n",
    "\n",
    "            # Convert probabilities to binary predictions\n",
    "            predicted = (pred > 0.5).float()\n",
    "            correct += (predicted == y).sum().item()\n",
    "            \n",
    "            # Collect all predictions and true labels for F1-score calculation\n",
    "            all_preds.extend(predicted.cpu().numpy())\n",
    "            all_labels.extend(y.cpu().numpy())\n",
    "\n",
    "    mean_loss = test_loss / num_batches  # Divide by the number of batches\n",
    "    loss_over_test.append(mean_loss)\n",
    "\n",
    "    correct /= size\n",
    "    f1 = f1_score(all_labels, all_preds, average='weighted') * 100  # Weighted F1-score to handle class imbalance\n",
    "    f1_macro = f1_score(all_labels, all_preds, average='macro') * 100  # Macro F1-score to handle class imbalance\n",
    "\n",
    "    print(f\"Test Error: \\n Accuracy: {(100*correct):>0.1f}%, Avg loss: {mean_loss:>8f}, F1-score: {f1:.2f}%, Macro_F1-Score: {f1_macro: .2f}%  \\n\")"
   ]
  },
  {
   "cell_type": "code",
   "execution_count": null,
   "id": "8b92990a-790c-4d0d-b1fe-550199e0b99a",
   "metadata": {
    "scrolled": true
   },
   "outputs": [
    {
     "name": "stdout",
     "output_type": "stream",
     "text": [
      "Epoch 1\n",
      "-------------------------------\n",
      "loss: 0.707717  [    0/175341]\n",
      "loss: 0.693267  [ 1600/175341]\n",
      "loss: 0.682168  [ 3200/175341]\n",
      "loss: 0.682056  [ 4800/175341]\n",
      "loss: 0.636587  [ 6400/175341]\n",
      "loss: 0.657409  [ 8000/175341]\n",
      "loss: 0.664366  [ 9600/175341]\n",
      "loss: 0.619881  [11200/175341]\n",
      "loss: 0.557916  [12800/175341]\n",
      "loss: 0.591307  [14400/175341]\n",
      "loss: 0.638198  [16000/175341]\n",
      "loss: 0.622101  [17600/175341]\n",
      "loss: 0.614799  [19200/175341]\n",
      "loss: 0.587324  [20800/175341]\n",
      "loss: 0.460327  [22400/175341]\n",
      "loss: 0.652000  [24000/175341]\n",
      "loss: 0.484181  [25600/175341]\n",
      "loss: 0.429702  [27200/175341]\n",
      "loss: 0.379107  [28800/175341]\n",
      "loss: 0.499225  [30400/175341]\n",
      "loss: 0.295160  [32000/175341]\n",
      "loss: 0.432430  [33600/175341]\n",
      "loss: 0.403665  [35200/175341]\n",
      "loss: 0.222301  [36800/175341]\n",
      "loss: 0.370024  [38400/175341]\n",
      "loss: 0.310727  [40000/175341]\n",
      "loss: 0.251204  [41600/175341]\n",
      "loss: 0.202648  [43200/175341]\n",
      "loss: 0.322116  [44800/175341]\n",
      "loss: 0.181337  [46400/175341]\n",
      "loss: 0.258801  [48000/175341]\n",
      "loss: 0.267277  [49600/175341]\n",
      "loss: 0.166472  [51200/175341]\n",
      "loss: 0.181954  [52800/175341]\n",
      "loss: 0.140562  [54400/175341]\n",
      "loss: 0.285700  [56000/175341]\n",
      "loss: 0.253533  [57600/175341]\n",
      "loss: 0.323776  [59200/175341]\n",
      "loss: 0.398227  [60800/175341]\n",
      "loss: 0.199251  [62400/175341]\n",
      "loss: 0.198863  [64000/175341]\n",
      "loss: 0.194018  [65600/175341]\n",
      "loss: 0.357368  [67200/175341]\n",
      "loss: 0.192218  [68800/175341]\n",
      "loss: 0.294220  [70400/175341]\n",
      "loss: 0.117988  [72000/175341]\n",
      "loss: 0.111021  [73600/175341]\n",
      "loss: 0.148834  [75200/175341]\n",
      "loss: 0.362433  [76800/175341]\n",
      "loss: 0.524025  [78400/175341]\n",
      "loss: 0.136047  [80000/175341]\n",
      "loss: 0.172615  [81600/175341]\n",
      "loss: 0.283047  [83200/175341]\n",
      "loss: 0.169507  [84800/175341]\n",
      "loss: 0.149576  [86400/175341]\n",
      "loss: 0.320267  [88000/175341]\n",
      "loss: 0.141145  [89600/175341]\n",
      "loss: 0.101124  [91200/175341]\n",
      "loss: 0.161062  [92800/175341]\n",
      "loss: 0.195257  [94400/175341]\n",
      "loss: 0.327363  [96000/175341]\n",
      "loss: 0.079854  [97600/175341]\n",
      "loss: 0.115522  [99200/175341]\n",
      "loss: 0.094556  [100800/175341]\n",
      "loss: 0.095075  [102400/175341]\n",
      "loss: 0.342416  [104000/175341]\n",
      "loss: 0.131495  [105600/175341]\n",
      "loss: 0.092438  [107200/175341]\n",
      "loss: 0.172738  [108800/175341]\n",
      "loss: 0.237714  [110400/175341]\n",
      "loss: 0.059879  [112000/175341]\n",
      "loss: 0.049335  [113600/175341]\n",
      "loss: 0.294548  [115200/175341]\n",
      "loss: 0.200568  [116800/175341]\n",
      "loss: 0.099498  [118400/175341]\n",
      "loss: 0.070308  [120000/175341]\n",
      "loss: 0.059427  [121600/175341]\n",
      "loss: 0.068248  [123200/175341]\n",
      "loss: 0.182222  [124800/175341]\n",
      "loss: 0.123664  [126400/175341]\n",
      "loss: 0.050456  [128000/175341]\n",
      "loss: 0.171688  [129600/175341]\n",
      "loss: 0.058063  [131200/175341]\n",
      "loss: 0.119913  [132800/175341]\n",
      "loss: 0.146737  [134400/175341]\n",
      "loss: 0.189083  [136000/175341]\n",
      "loss: 0.038863  [137600/175341]\n",
      "loss: 0.065950  [139200/175341]\n",
      "loss: 0.383186  [140800/175341]\n",
      "loss: 0.147108  [142400/175341]\n",
      "loss: 0.265473  [144000/175341]\n",
      "loss: 0.126059  [145600/175341]\n",
      "loss: 0.146481  [147200/175341]\n",
      "loss: 0.205402  [148800/175341]\n",
      "loss: 0.093828  [150400/175341]\n",
      "loss: 0.086906  [152000/175341]\n",
      "loss: 0.275265  [153600/175341]\n",
      "loss: 0.264085  [155200/175341]\n",
      "loss: 0.061625  [156800/175341]\n",
      "loss: 0.172749  [158400/175341]\n",
      "loss: 0.140778  [160000/175341]\n",
      "loss: 0.204795  [161600/175341]\n",
      "loss: 0.069198  [163200/175341]\n",
      "loss: 0.061810  [164800/175341]\n",
      "loss: 0.216862  [166400/175341]\n",
      "loss: 0.048914  [168000/175341]\n",
      "loss: 0.345420  [169600/175341]\n",
      "loss: 0.289146  [171200/175341]\n",
      "loss: 0.046637  [172800/175341]\n",
      "loss: 0.028359  [174400/175341]\n",
      "Train Accuracy: 88.7340%\n",
      "Test Error: \n",
      " Accuracy: 80.5%, Avg loss: 0.351677, F1-score: 79.54%, Macro_F1-Score:  78.96%  \n",
      "\n",
      "Epoch 2\n",
      "-------------------------------\n",
      "loss: 0.353778  [    0/175341]\n"
     ]
    },
    {
     "name": "stderr",
     "output_type": "stream",
     "text": [
      "C:\\Users\\ADMIN\\AppData\\Local\\Programs\\Python\\Python313\\Lib\\site-packages\\torch\\nn\\modules\\module.py:1739: UserWarning: Implicit dimension choice for softmax has been deprecated. Change the call to include dim=X as an argument.\n",
      "  return self._call_impl(*args, **kwargs)\n"
     ]
    },
    {
     "name": "stdout",
     "output_type": "stream",
     "text": [
      "loss: 0.187987  [ 1600/175341]\n",
      "loss: 0.101811  [ 3200/175341]\n",
      "loss: 0.087432  [ 4800/175341]\n",
      "loss: 0.212464  [ 6400/175341]\n",
      "loss: 0.071418  [ 8000/175341]\n",
      "loss: 0.187516  [ 9600/175341]\n",
      "loss: 0.144569  [11200/175341]\n",
      "loss: 0.129017  [12800/175341]\n",
      "loss: 0.441755  [14400/175341]\n",
      "loss: 0.147664  [16000/175341]\n",
      "loss: 0.168684  [17600/175341]\n",
      "loss: 0.159638  [19200/175341]\n",
      "loss: 0.167875  [20800/175341]\n",
      "loss: 0.058536  [22400/175341]\n",
      "loss: 0.286451  [24000/175341]\n",
      "loss: 0.365717  [25600/175341]\n",
      "loss: 0.022833  [27200/175341]\n",
      "loss: 0.173536  [28800/175341]\n",
      "loss: 0.168980  [30400/175341]\n",
      "loss: 0.171094  [32000/175341]\n",
      "loss: 0.170411  [33600/175341]\n",
      "loss: 0.059255  [35200/175341]\n",
      "loss: 0.193939  [36800/175341]\n",
      "loss: 0.380560  [38400/175341]\n",
      "loss: 0.112478  [40000/175341]\n",
      "loss: 0.155797  [41600/175341]\n",
      "loss: 0.044634  [43200/175341]\n",
      "loss: 0.073674  [44800/175341]\n",
      "loss: 0.093383  [46400/175341]\n",
      "loss: 0.110130  [48000/175341]\n",
      "loss: 0.054786  [49600/175341]\n",
      "loss: 0.214257  [51200/175341]\n",
      "loss: 0.074882  [52800/175341]\n",
      "loss: 0.073080  [54400/175341]\n",
      "loss: 0.167940  [56000/175341]\n",
      "loss: 0.247278  [57600/175341]\n",
      "loss: 0.135852  [59200/175341]\n",
      "loss: 0.079486  [60800/175341]\n",
      "loss: 0.326332  [62400/175341]\n",
      "loss: 0.108342  [64000/175341]\n",
      "loss: 0.029058  [65600/175341]\n",
      "loss: 0.389943  [67200/175341]\n",
      "loss: 0.066381  [68800/175341]\n",
      "loss: 0.088024  [70400/175341]\n",
      "loss: 0.108079  [72000/175341]\n",
      "loss: 0.270713  [73600/175341]\n",
      "loss: 0.076223  [75200/175341]\n",
      "loss: 0.429479  [76800/175341]\n",
      "loss: 0.289265  [78400/175341]\n",
      "loss: 0.038355  [80000/175341]\n",
      "loss: 0.047056  [81600/175341]\n",
      "loss: 0.271438  [83200/175341]\n",
      "loss: 0.197876  [84800/175341]\n",
      "loss: 0.253021  [86400/175341]\n",
      "loss: 0.140923  [88000/175341]\n",
      "loss: 0.257168  [89600/175341]\n",
      "loss: 0.143443  [91200/175341]\n"
     ]
    }
   ],
   "source": [
    "loss_fn = nn.BCELoss()\n",
    "#loss_fn = FocalLoss(alpha=0.5, gamma = 1)\n",
    "optimizer = torch.optim.Adam(model.parameters(), lr=0.0001,weight_decay=1e-4)\n",
    "\n",
    "epochs = 200\n",
    "for t in range(epochs):\n",
    "    print(f\"Epoch {t+1}\\n-------------------------------\")\n",
    "    train_loop(train_dataloader, model, loss_fn, optimizer)\n",
    "    test_loop(test_dataloader, model, loss_fn)\n",
    "print(\"Done!\") #wider network"
   ]
  },
  {
   "cell_type": "code",
   "execution_count": null,
   "id": "9c2362c3-f2fe-4d79-ab22-038e027752ac",
   "metadata": {},
   "outputs": [],
   "source": [
    "model = KAN([40, 20,10, 5,1],grid_size = 6, spline_order = 3, scale_noise=0.2, scale_base=0.2, scale_spline=0.2)\n",
    "loss_over_train = []\n",
    "loss_over_test = []"
   ]
  },
  {
   "cell_type": "code",
   "execution_count": null,
   "id": "fdafbf2b-d151-40e6-b9d2-35b65c2b9781",
   "metadata": {
    "scrolled": true
   },
   "outputs": [],
   "source": [
    "loss_fn = nn.BCELoss()\n",
    "#loss_fn = FocalLoss(alpha=0.5, gamma = 1)\n",
    "\n",
    "optimizer = torch.optim.Adam(model.parameters(), lr=0.0001,weight_decay=1e-4)\n",
    "\n",
    "epochs = 200\n",
    "for t in range(epochs):\n",
    "    print(f\"Epoch {t+1}\\n-------------------------------\")\n",
    "    train_loop(train_dataloader, model, loss_fn, optimizer)\n",
    "    test_loop(test_dataloader, model, loss_fn)\n",
    "print(\"Done!\")"
   ]
  },
  {
   "cell_type": "code",
   "execution_count": null,
   "id": "4b427034-602d-4252-af52-9c7d0908f074",
   "metadata": {
    "scrolled": true
   },
   "outputs": [],
   "source": [
    "loss_fn = nn.BCELoss()\n",
    "optimizer = torch.optim.Adam(model.parameters(), lr=0.0001,weight_decay=1e-4)\n",
    "\n",
    "epochs = 200\n",
    "for t in range(epochs):\n",
    "    print(f\"Epoch {t+1}\\n-------------------------------\")\n",
    "    train_loop(train_dataloader, model, loss_fn, optimizer)\n",
    "    test_loop(test_dataloader, model, loss_fn)\n",
    "print(\"Done!\")"
   ]
  },
  {
   "cell_type": "code",
   "execution_count": null,
   "id": "3115f1b7-87f8-41a5-8992-af1752600f88",
   "metadata": {
    "scrolled": true
   },
   "outputs": [],
   "source": [
    "loss_fn = nn.CrossEntropyLoss()\n",
    "optimizer = torch.optim.Adam(model.parameters(), lr=0.0001,weight_decay=1e-4)\n",
    "\n",
    "epochs = 20\n",
    "for t in range(epochs):\n",
    "    print(f\"Epoch {t+1}\\n-------------------------------\")\n",
    "    train_loop(train_dataloader, model, loss_fn, optimizer)\n",
    "    test_loop(test_dataloader, model, loss_fn)\n",
    "print(\"Done!\")"
   ]
  },
  {
   "cell_type": "code",
   "execution_count": null,
   "id": "c6add252-99f2-4d32-bb41-6e558870ac52",
   "metadata": {},
   "outputs": [],
   "source": [
    "#since the traind and test loops keep appending to the loss over train/test lists\n",
    "plt.plot(x_axis[:len(loss_over_train)], loss_over_train, label=\"Training Loss\")\n",
    "plt.plot(x_axis[:len(loss_over_test)], loss_over_test, label=\"Testing Loss\")\n",
    "plt.xlabel(\"Epoch\")\n",
    "plt.ylabel(\"Loss\")\n",
    "plt.title(\"Training and Testing Loss over Epochs\")\n",
    "plt.legend()\n",
    "plt.show()"
   ]
  },
  {
   "cell_type": "markdown",
   "id": "9c46642c-d070-4eed-bfb4-3c5a7d21e93c",
   "metadata": {},
   "source": [
    "# Confusion Matrix"
   ]
  },
  {
   "cell_type": "code",
   "execution_count": null,
   "id": "605965a8-0cd9-434c-aee0-478a4531365f",
   "metadata": {},
   "outputs": [],
   "source": [
    "import pickle\n",
    "import pandas as pd\n",
    "\n",
    "# Load the LabelEncoder object from the file\n",
    "with open(r\"C:\\Users\\ADMIN\\Desktop\\Thesis Space Desktop\\Data After Preprocess\\label_encoder.pkl\", \"rb\") as f:\n",
    "    label_encoder = pickle.load(f)\n",
    "\n",
    "\n",
    "# Now you can use the label_encoder object in the second notebook\n",
    "original_class_labels = label_encoder.classes_"
   ]
  },
  {
   "cell_type": "code",
   "execution_count": null,
   "id": "f37c1d9c-dcf8-497e-931d-9ad812150687",
   "metadata": {},
   "outputs": [],
   "source": [
    "original_labels_test = label_encoder.inverse_transform(test_data_y.values.flatten())"
   ]
  },
  {
   "cell_type": "code",
   "execution_count": null,
   "id": "c1517902-9ea6-4c23-8654-e295a0f3c84d",
   "metadata": {},
   "outputs": [],
   "source": [
    "import torch\n",
    "import matplotlib.pyplot as plt\n",
    "from sklearn.metrics import confusion_matrix, ConfusionMatrixDisplay\n",
    "\n",
    "# Ensure the model is in evaluation mode\n",
    "model.eval()\n",
    "\n",
    "with torch.no_grad():\n",
    "    y_pred = model(test_X_tensor)  # Forward pass\n",
    "    y_pred = torch.argmax(y_pred, dim=1)  # Get class predictions\n",
    "\n",
    "# Convert tensors to NumPy arrays for sklearn\n",
    "y_pred = y_pred.cpu().numpy()\n",
    "y_true = test_Y_tensor.cpu().numpy()\n",
    "\n",
    "# Compute confusion matrix\n",
    "cm = confusion_matrix(y_true, y_pred)\n",
    "\n",
    "# Get class labels from the LabelEncoder\n",
    "class_labels = label_encoder.classes_\n",
    "\n",
    "fig, ax = plt.subplots(figsize=(12, 8))  #Creates both a figure and an ax\n",
    "\n",
    "disp = ConfusionMatrixDisplay(confusion_matrix=cm, display_labels=class_labels)\n",
    "disp.plot(cmap='Blues', values_format='d', ax=ax)\n",
    "\n",
    "# Rotate axis labels for better visibility\n",
    "plt.xticks(rotation=45)\n",
    "plt.yticks(rotation=45)\n",
    "\n",
    "# Show the plot\n",
    "plt.show()"
   ]
  },
  {
   "cell_type": "code",
   "execution_count": null,
   "id": "0cd35ae8-6d07-4480-ac58-1ed59db4db74",
   "metadata": {},
   "outputs": [],
   "source": [
    "import torch.nn.functional as F\n",
    "\n",
    "with torch.no_grad():\n",
    "    y_score = F.softmax(model(test_X_tensor), dim=1)"
   ]
  },
  {
   "cell_type": "code",
   "execution_count": null,
   "id": "10dcbd44-687c-45a2-9c00-879918c67e42",
   "metadata": {},
   "outputs": [],
   "source": [
    "np.average(y_score.numpy())"
   ]
  },
  {
   "cell_type": "code",
   "execution_count": null,
   "id": "bdcd8846-8af7-4fd7-9d88-9fefb32eb6ef",
   "metadata": {},
   "outputs": [],
   "source": [
    "from sklearn.preprocessing import LabelBinarizer\n",
    "\n",
    "label_binarizer = LabelBinarizer().fit(train_data_y)\n",
    "y_onehot_test = label_binarizer.transform(test_labels_encoded)\n",
    "y_onehot_test.shape  # (n_samples, n_classes)"
   ]
  },
  {
   "cell_type": "code",
   "execution_count": null,
   "id": "ff20700c-6029-414e-bac8-a661f60724a1",
   "metadata": {},
   "outputs": [],
   "source": [
    "from sklearn.metrics import RocCurveDisplay\n",
    "\n",
    "display = RocCurveDisplay.from_predictions(\n",
    "    y_onehot_test.ravel(),\n",
    "    y_score.ravel(),\n",
    "    name=\"micro-average OvR\",\n",
    "    color=\"darkorange\",\n",
    "    plot_chance_level=True)\n",
    "_ = display.ax_.set(\n",
    "    xlabel=\"False Positive Rate\",\n",
    "    ylabel=\"True Positive Rate\",\n",
    "    title=\"Micro-averaged One-vs-Rest\\nReceiver Operating Characteristic\",\n",
    ")"
   ]
  },
  {
   "cell_type": "code",
   "execution_count": null,
   "id": "78b16805-13a2-47e6-8c8d-cc677b5aa227",
   "metadata": {},
   "outputs": [],
   "source": []
  },
  {
   "cell_type": "code",
   "execution_count": null,
   "id": "4aa08a28-cb43-4ecb-924e-34c39a6b8702",
   "metadata": {},
   "outputs": [],
   "source": []
  },
  {
   "cell_type": "code",
   "execution_count": null,
   "id": "9686dbe6-e354-46d6-98e8-d9eb3f4e5949",
   "metadata": {},
   "outputs": [],
   "source": []
  },
  {
   "cell_type": "code",
   "execution_count": null,
   "id": "6d2d2a7e-e9a4-43a1-8731-3345a578a4d2",
   "metadata": {},
   "outputs": [],
   "source": []
  },
  {
   "cell_type": "code",
   "execution_count": null,
   "id": "bd505fb2-28cc-44a8-beb3-4baee288e02d",
   "metadata": {},
   "outputs": [],
   "source": []
  },
  {
   "cell_type": "code",
   "execution_count": null,
   "id": "49f79f78-753b-4d86-89bc-6f85eec05b4e",
   "metadata": {},
   "outputs": [],
   "source": []
  }
 ],
 "metadata": {
  "kernelspec": {
   "display_name": "Python 3 (ipykernel)",
   "language": "python",
   "name": "python3"
  },
  "language_info": {
   "codemirror_mode": {
    "name": "ipython",
    "version": 3
   },
   "file_extension": ".py",
   "mimetype": "text/x-python",
   "name": "python",
   "nbconvert_exporter": "python",
   "pygments_lexer": "ipython3",
   "version": "3.13.2"
  }
 },
 "nbformat": 4,
 "nbformat_minor": 5
}
