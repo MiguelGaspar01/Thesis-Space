{
 "cells": [
  {
   "cell_type": "code",
   "execution_count": 1,
   "id": "444a49bd-270c-4174-8a95-e94d53f0f235",
   "metadata": {},
   "outputs": [],
   "source": [
    "import pandas as pd\n",
    "import numpy as np\n",
    "import matplotlib.pyplot as plt\n",
    "import seaborn as sns\n",
    "\n",
    "import torch\n",
    "#pip install git+https://github.com/KindXiaoming/pykan.git\n",
    "import sys\n"
   ]
  },
  {
   "cell_type": "code",
   "execution_count": 2,
   "id": "5ed6d0c0-22ce-4494-967a-a09a640ae412",
   "metadata": {},
   "outputs": [],
   "source": [
    "import random\n",
    "import numpy as np\n",
    "import torch\n",
    "import os\n",
    "\n",
    "def set_global_seed(seed=42):\n",
    "    \"\"\"Set seed for reproducibility across NumPy, PyTorch, and OS operations.\"\"\"\n",
    "    \n",
    "    # Set Python random seed\n",
    "    random.seed(seed)\n",
    "    \n",
    "    # Set NumPy random seed\n",
    "    np.random.seed(seed)\n",
    "    \n",
    "    # Set PyTorch random seed\n",
    "    torch.manual_seed(seed)\n",
    "    torch.cuda.manual_seed_all(seed)  # If using CUDA\n",
    "    \n",
    "    # Ensure deterministic behavior in PyTorch (optional, can slow training)\n",
    "    torch.backends.cudnn.deterministic = True\n",
    "    torch.backends.cudnn.benchmark = False\n",
    "    \n",
    "    # Set environment variable for other libraries\n",
    "    os.environ[\"PYTHONHASHSEED\"] = str(seed)\n",
    "\n",
    "# Set global seed\n",
    "set_global_seed(42)\n"
   ]
  },
  {
   "cell_type": "code",
   "execution_count": 3,
   "id": "8f75fa4e-1729-49f1-a197-a9b40368377b",
   "metadata": {},
   "outputs": [],
   "source": [
    "test_data_X = pd.read_csv(r\"C:\\Users\\ADMIN\\Desktop\\Thesis Space Desktop\\Data After Preprocess\\processed_test_data_X_data.csv\")\n",
    "train_data_X = pd.read_csv(r\"C:\\Users\\ADMIN\\Desktop\\Thesis Space Desktop\\Data After Preprocess\\processed_train_data_X_data.csv\")\n",
    "test_labels_encoded = pd.read_csv(r\"C:\\Users\\ADMIN\\Desktop\\Thesis Space Desktop\\Data After Preprocess\\processed_test_data_y_data.csv\")\n",
    "train_labels_encoded = pd.read_csv(r\"C:\\Users\\ADMIN\\Desktop\\Thesis Space Desktop\\Data After Preprocess\\processed_train_data_y_data.csv\")"
   ]
  },
  {
   "cell_type": "code",
   "execution_count": 4,
   "id": "75dd1d13-a1c1-4150-8e41-0d8261c19cbd",
   "metadata": {},
   "outputs": [
    {
     "data": {
      "text/plain": [
       "encoder__proto_arp              1.000000\n",
       "encoder__proto_ospf             1.000000\n",
       "encoder__proto_sctp             1.000000\n",
       "encoder__proto_tcp              1.000000\n",
       "encoder__proto_udp              1.000000\n",
       "encoder__proto_unas             1.000000\n",
       "encoder__service_dns            1.000000\n",
       "encoder__service_ftp            1.000000\n",
       "encoder__service_ftp-data       1.000000\n",
       "encoder__service_http           1.000000\n",
       "encoder__service_smtp           1.000000\n",
       "encoder__state_CON              1.000000\n",
       "encoder__state_ECO              0.000000\n",
       "encoder__state_FIN              1.000000\n",
       "encoder__state_INT              1.000000\n",
       "encoder__state_REQ              1.000000\n",
       "encoder__state_RST              1.000000\n",
       "remainder__dur                  1.000000\n",
       "remainder__spkts                1.000000\n",
       "remainder__dpkts                1.000000\n",
       "remainder__sbytes               1.000000\n",
       "remainder__dbytes               1.000000\n",
       "remainder__rate                 1.000000\n",
       "remainder__sttl                 1.000000\n",
       "remainder__dttl                 1.000000\n",
       "remainder__sload                1.000000\n",
       "remainder__dload                0.835339\n",
       "remainder__sloss                1.000000\n",
       "remainder__dloss                1.000000\n",
       "remainder__sinpkt               1.000000\n",
       "remainder__dinpkt               1.000000\n",
       "remainder__sjit                 1.000000\n",
       "remainder__djit                 1.000000\n",
       "remainder__swin                 1.000000\n",
       "remainder__stcpb                1.000000\n",
       "remainder__dtcpb                1.000000\n",
       "remainder__dwin                 1.000000\n",
       "remainder__tcprtt               1.000000\n",
       "remainder__synack               1.000000\n",
       "remainder__ackdat               1.000000\n",
       "remainder__smean                1.000000\n",
       "remainder__dmean                1.000000\n",
       "remainder__trans_depth          0.874469\n",
       "remainder__response_body_len    1.000000\n",
       "remainder__ct_srv_src           1.000000\n",
       "remainder__ct_state_ttl         1.000000\n",
       "remainder__ct_dst_ltm           1.000000\n",
       "remainder__ct_src_dport_ltm     1.000000\n",
       "remainder__ct_dst_sport_ltm     0.823317\n",
       "remainder__ct_dst_src_ltm       1.000000\n",
       "remainder__is_ftp_login         1.000000\n",
       "remainder__ct_ftp_cmd           1.000000\n",
       "remainder__ct_flw_http_mthd     0.814779\n",
       "remainder__ct_src_ltm           1.000000\n",
       "remainder__ct_srv_dst           1.000000\n",
       "remainder__is_sm_ips_ports      1.000000\n",
       "dtype: float64"
      ]
     },
     "execution_count": 4,
     "metadata": {},
     "output_type": "execute_result"
    }
   ],
   "source": [
    "test_data_X.max()"
   ]
  },
  {
   "cell_type": "code",
   "execution_count": 5,
   "id": "6fb2e4ac-d59e-4e27-9f18-e9f0aa674362",
   "metadata": {},
   "outputs": [],
   "source": [
    "train_data_y_binary = train_labels_encoded[\"label\"]\n",
    "test_data_y_binary = test_labels_encoded[\"label\"]"
   ]
  },
  {
   "cell_type": "code",
   "execution_count": 6,
   "id": "d32a12a0-caa3-4e41-98f8-e89a7075914c",
   "metadata": {},
   "outputs": [
    {
     "data": {
      "text/html": [
       "<div>\n",
       "<style scoped>\n",
       "    .dataframe tbody tr th:only-of-type {\n",
       "        vertical-align: middle;\n",
       "    }\n",
       "\n",
       "    .dataframe tbody tr th {\n",
       "        vertical-align: top;\n",
       "    }\n",
       "\n",
       "    .dataframe thead th {\n",
       "        text-align: right;\n",
       "    }\n",
       "</style>\n",
       "<table border=\"1\" class=\"dataframe\">\n",
       "  <thead>\n",
       "    <tr style=\"text-align: right;\">\n",
       "      <th></th>\n",
       "      <th>attack_cat</th>\n",
       "      <th>label</th>\n",
       "    </tr>\n",
       "  </thead>\n",
       "  <tbody>\n",
       "    <tr>\n",
       "      <th>0</th>\n",
       "      <td>6</td>\n",
       "      <td>0</td>\n",
       "    </tr>\n",
       "    <tr>\n",
       "      <th>1</th>\n",
       "      <td>6</td>\n",
       "      <td>0</td>\n",
       "    </tr>\n",
       "    <tr>\n",
       "      <th>2</th>\n",
       "      <td>6</td>\n",
       "      <td>0</td>\n",
       "    </tr>\n",
       "    <tr>\n",
       "      <th>3</th>\n",
       "      <td>6</td>\n",
       "      <td>0</td>\n",
       "    </tr>\n",
       "    <tr>\n",
       "      <th>4</th>\n",
       "      <td>6</td>\n",
       "      <td>0</td>\n",
       "    </tr>\n",
       "    <tr>\n",
       "      <th>...</th>\n",
       "      <td>...</td>\n",
       "      <td>...</td>\n",
       "    </tr>\n",
       "    <tr>\n",
       "      <th>175336</th>\n",
       "      <td>5</td>\n",
       "      <td>1</td>\n",
       "    </tr>\n",
       "    <tr>\n",
       "      <th>175337</th>\n",
       "      <td>8</td>\n",
       "      <td>1</td>\n",
       "    </tr>\n",
       "    <tr>\n",
       "      <th>175338</th>\n",
       "      <td>5</td>\n",
       "      <td>1</td>\n",
       "    </tr>\n",
       "    <tr>\n",
       "      <th>175339</th>\n",
       "      <td>5</td>\n",
       "      <td>1</td>\n",
       "    </tr>\n",
       "    <tr>\n",
       "      <th>175340</th>\n",
       "      <td>5</td>\n",
       "      <td>1</td>\n",
       "    </tr>\n",
       "  </tbody>\n",
       "</table>\n",
       "<p>175341 rows × 2 columns</p>\n",
       "</div>"
      ],
      "text/plain": [
       "        attack_cat  label\n",
       "0                6      0\n",
       "1                6      0\n",
       "2                6      0\n",
       "3                6      0\n",
       "4                6      0\n",
       "...            ...    ...\n",
       "175336           5      1\n",
       "175337           8      1\n",
       "175338           5      1\n",
       "175339           5      1\n",
       "175340           5      1\n",
       "\n",
       "[175341 rows x 2 columns]"
      ]
     },
     "execution_count": 6,
     "metadata": {},
     "output_type": "execute_result"
    }
   ],
   "source": [
    "train_labels_encoded"
   ]
  },
  {
   "cell_type": "code",
   "execution_count": 7,
   "id": "7dbdef64-5462-455b-96fa-863d4b36bdb0",
   "metadata": {},
   "outputs": [
    {
     "data": {
      "text/plain": [
       "attack_cat  label\n",
       "6           0        56000\n",
       "5           1        40000\n",
       "3           1        33393\n",
       "4           1        18184\n",
       "2           1        12264\n",
       "7           1        10491\n",
       "0           1         2000\n",
       "1           1         1746\n",
       "8           1         1133\n",
       "9           1          130\n",
       "Name: count, dtype: int64"
      ]
     },
     "execution_count": 7,
     "metadata": {},
     "output_type": "execute_result"
    }
   ],
   "source": [
    "train_labels_encoded.value_counts()"
   ]
  },
  {
   "cell_type": "code",
   "execution_count": 8,
   "id": "bd2c096b-e87b-4597-a60e-d432d11ad8fc",
   "metadata": {},
   "outputs": [],
   "source": [
    "target_distribution = {\n",
    "    0: 20000,  # Class 0 should have 56000 samples\n",
    "    1: 20000,  # Class 1 should have 56000 samples\n",
    "    2: 30000,  # Class 2 should have 56000 samples\n",
    "    3: 34000,  # Class 3 should have 56000 samples\n",
    "    4: 30000,  # Class 4 should have 56000 samples\n",
    "    5: 41000,  # Class 5 should have 56000 samples\n",
    "    6: 56000,  # Class 6 should have 56000 samples\n",
    "    7: 30000,  # Class 7 should have 56000 samples\n",
    "    8: 20000,  # Class 8 should have 56000 samples\n",
    "    9: 10000,  # Class 9 should have 56000 samples\n",
    "}"
   ]
  },
  {
   "cell_type": "markdown",
   "id": "03bae611-6e41-45ec-93de-712ad2cefa5a",
   "metadata": {},
   "source": [
    "# Resampling"
   ]
  },
  {
   "cell_type": "code",
   "execution_count": 9,
   "id": "45addaf4-c17e-4cb2-94b3-a5c6629a8ef6",
   "metadata": {},
   "outputs": [],
   "source": [
    "from imblearn.under_sampling import RandomUnderSampler\n",
    "from imblearn.over_sampling import ADASYN\n",
    "from imblearn.pipeline import Pipeline\n",
    "import numpy as np\n",
    "\n",
    "# Current class distribution\n",
    "unique, counts = np.unique(train_labels_encoded, return_counts=True)\n",
    "class_distribution = dict(zip(unique, counts))\n",
    "\n",
    "majority_class = 6\n",
    "majority_target_size = class_distribution[majority_class] // 3\n",
    "\n",
    "# Define the target size for the minority classes (e.g., match the majority target size)\n",
    "target_distribution = {cls: majority_target_size for cls in unique}\n",
    "\n",
    "# Step 1: Under-sample the majority class\n",
    "under_sampler = RandomUnderSampler(sampling_strategy={majority_class: majority_target_size}, random_state=42)\n",
    "#train_data_X, train_labels_encoded = under_sampler.fit_resample(train_data_X, train_labels_encoded)"
   ]
  },
  {
   "cell_type": "code",
   "execution_count": 10,
   "id": "96863f09-6fdd-47a1-aa2a-0c75a380e1ab",
   "metadata": {},
   "outputs": [],
   "source": [
    "from imblearn.under_sampling import RandomUnderSampler\n",
    "from imblearn.over_sampling import ADASYN\n",
    "from imblearn.pipeline import Pipeline\n",
    "import numpy as np\n",
    "\n",
    "# Current class distribution\n",
    "unique, counts = np.unique(train_labels_encoded, return_counts=True)\n",
    "class_distribution = dict(zip(unique, counts))\n",
    "\n",
    "majority_class = 5\n",
    "majority_target_size = class_distribution[majority_class] // 3\n",
    "\n",
    "# Define the target size for the minority classes (e.g., match the majority target size)\n",
    "target_distribution = {cls: majority_target_size for cls in unique}\n",
    "\n",
    "# Step 1: Under-sample the majority class\n",
    "under_sampler = RandomUnderSampler(sampling_strategy={majority_class: majority_target_size}, random_state=42)\n",
    "#train_data_X, train_labels_encoded = under_sampler.fit_resample(train_data_X, train_labels_encoded)"
   ]
  },
  {
   "cell_type": "code",
   "execution_count": 11,
   "id": "011c575f-d547-4b41-84c0-1af4ba290d26",
   "metadata": {},
   "outputs": [
    {
     "data": {
      "text/plain": [
       "attack_cat\n",
       "6    56000\n",
       "5    40000\n",
       "3    33393\n",
       "4    18184\n",
       "2    12264\n",
       "7    10491\n",
       "0     2000\n",
       "1     1746\n",
       "8     1133\n",
       "9      130\n",
       "Name: count, dtype: int64"
      ]
     },
     "execution_count": 11,
     "metadata": {},
     "output_type": "execute_result"
    }
   ],
   "source": [
    "train_labels_encoded[\"attack_cat\"].value_counts()"
   ]
  },
  {
   "cell_type": "code",
   "execution_count": 12,
   "id": "5b95a23d-e0ba-48a9-8e8f-a76411be9638",
   "metadata": {},
   "outputs": [],
   "source": [
    "test_data_y = test_labels_encoded[\"attack_cat\"]"
   ]
  },
  {
   "cell_type": "code",
   "execution_count": 13,
   "id": "901db99f-954c-4b86-bcd8-af1845f20941",
   "metadata": {},
   "outputs": [],
   "source": [
    "from imblearn.under_sampling import EditedNearestNeighbours"
   ]
  },
  {
   "cell_type": "code",
   "execution_count": 14,
   "id": "b7c45b32-8a1e-4e15-a328-d2da3f718461",
   "metadata": {},
   "outputs": [],
   "source": [
    "from collections import Counter\n",
    "from sklearn.datasets import make_classification\n",
    "from imblearn.under_sampling import EditedNearestNeighbours\n",
    "#ENN reduces the majority class by keeping only well separated instances\n",
    "enn = EditedNearestNeighbours(sampling_strategy = \"majority\", n_neighbors = 3)\n",
    "#train_data_X, train_data_y = enn.fit_resample(train_data_X, train_labels_encoded)"
   ]
  },
  {
   "cell_type": "code",
   "execution_count": 15,
   "id": "8af5f4e3-48a5-4a60-b951-1cb02855acdf",
   "metadata": {},
   "outputs": [],
   "source": [
    "#train_data_y.value_counts()"
   ]
  },
  {
   "cell_type": "code",
   "execution_count": 16,
   "id": "102d84fa-c8e2-425c-84f8-25b8a6272498",
   "metadata": {},
   "outputs": [],
   "source": [
    "from imblearn.over_sampling import ADASYN\n",
    "\n",
    "adasyn = ADASYN(sampling_strategy = \"minority\", random_state=42, n_neighbors= 3)\n",
    "#train_data_X,train_data_y = adasyn.fit_resample(train_data_X, train_data_y)"
   ]
  },
  {
   "cell_type": "code",
   "execution_count": 17,
   "id": "0da2d9fc-1ea8-4570-8c1c-073cd9455e48",
   "metadata": {},
   "outputs": [],
   "source": [
    "from imblearn.combine import SMOTEENN\n",
    "\n",
    "# Combine SMOTE (oversampling) and ENN (cleaning majority class)\n",
    "#smote_enn = SMOTEENN(sampling_strategy=\"not majority\", enn = enn, random_state=42,n_neighbors = 5)\n",
    "\n",
    "# Apply SMOTEENN\n",
    "#train_data_X, train_data_y = smote_enn.fit_resample(train_data_X, train_data_y)\n",
    "\n",
    "# Check the class distribution after resampling\n",
    "from collections import Counter\n",
    "#print(f\"Class distribution after resampling: {Counter(train_data_y)}\")"
   ]
  },
  {
   "cell_type": "code",
   "execution_count": 18,
   "id": "2a731f3a-ba64-42b5-96f6-c1dcb5183fe6",
   "metadata": {},
   "outputs": [],
   "source": [
    "train_data_y = train_labels_encoded[\"attack_cat\"]"
   ]
  },
  {
   "cell_type": "code",
   "execution_count": null,
   "id": "6fc4374a-08e4-4ef5-ae4d-28e91f23e8d2",
   "metadata": {},
   "outputs": [],
   "source": []
  },
  {
   "cell_type": "code",
   "execution_count": 19,
   "id": "46c173ce-09da-44d1-9c68-8d351f7e5ce3",
   "metadata": {},
   "outputs": [
    {
     "data": {
      "text/plain": [
       "attack_cat\n",
       "6    56000\n",
       "5    40000\n",
       "3    33393\n",
       "4    18184\n",
       "2    12264\n",
       "7    10491\n",
       "0     2000\n",
       "1     1746\n",
       "8     1133\n",
       "9      130\n",
       "Name: count, dtype: int64"
      ]
     },
     "execution_count": 19,
     "metadata": {},
     "output_type": "execute_result"
    }
   ],
   "source": [
    "train_data_y.value_counts()"
   ]
  },
  {
   "cell_type": "markdown",
   "id": "d9a52f54-b0d2-4d50-aad1-43bcbf2637fb",
   "metadata": {},
   "source": [
    "# Feature Selection"
   ]
  },
  {
   "cell_type": "code",
   "execution_count": 20,
   "id": "486b73a0-a8b5-459b-acca-6894afffdd9d",
   "metadata": {},
   "outputs": [
    {
     "data": {
      "image/png": "[encoded data removed]",
      "text/plain": [
       "<Figure size 800x1000 with 1 Axes>"
      ]
     },
     "metadata": {},
     "output_type": "display_data"
    }
   ],
   "source": [
    "from sklearn.ensemble import RandomForestClassifier\n",
    "\n",
    "rf_classifier = RandomForestClassifier(random_state=15)\n",
    "numeric_cols = train_data_X.select_dtypes(include = \"number\")\n",
    "rf_classifier.fit(numeric_cols, train_data_y.values.ravel())\n",
    "\n",
    "feature_importances = pd.Series(rf_classifier.feature_importances_, index=numeric_cols.columns)\n",
    "\n",
    "def plot_importance(coef, name):\n",
    "    imp_coef = coef.sort_values()\n",
    "    plt.figure(figsize=(8,10))\n",
    "    imp_coef.plot(kind=\"barh\")\n",
    "    plt.title(\"Feature importance using \" + name + \" Model\")\n",
    "    plt.show()\n",
    "\n",
    "plot_importance(feature_importances, 'Random Forest')"
   ]
  },
  {
   "cell_type": "code",
   "execution_count": 21,
   "id": "39e9a23a-0d26-4f7f-bdc9-a59255c48132",
   "metadata": {},
   "outputs": [
    {
     "data": {
      "text/plain": [
       "encoder__proto_arp              0.002315\n",
       "encoder__proto_ospf             0.000785\n",
       "encoder__proto_sctp             0.000729\n",
       "encoder__proto_tcp              0.001521\n",
       "encoder__proto_udp              0.023331\n",
       "encoder__proto_unas             0.001707\n",
       "encoder__service_dns            0.044820\n",
       "encoder__service_ftp            0.000386\n",
       "encoder__service_ftp-data       0.000823\n",
       "encoder__service_http           0.004992\n",
       "encoder__service_smtp           0.000898\n",
       "encoder__state_CON              0.002625\n",
       "encoder__state_ECO              0.000027\n",
       "encoder__state_FIN              0.000671\n",
       "encoder__state_INT              0.007634\n",
       "encoder__state_REQ              0.000619\n",
       "encoder__state_RST              0.000013\n",
       "remainder__dur                  0.021142\n",
       "remainder__spkts                0.009836\n",
       "remainder__dpkts                0.009263\n",
       "remainder__sbytes               0.075629\n",
       "remainder__dbytes               0.022278\n",
       "remainder__rate                 0.026009\n",
       "remainder__sttl                 0.096046\n",
       "remainder__dttl                 0.013829\n",
       "remainder__sload                0.031769\n",
       "remainder__dload                0.032785\n",
       "remainder__sloss                0.007746\n",
       "remainder__dloss                0.011608\n",
       "remainder__sinpkt               0.016771\n",
       "remainder__dinpkt               0.013839\n",
       "remainder__sjit                 0.013518\n",
       "remainder__djit                 0.013113\n",
       "remainder__swin                 0.002562\n",
       "remainder__stcpb                0.007766\n",
       "remainder__dtcpb                0.008364\n",
       "remainder__dwin                 0.000462\n",
       "remainder__tcprtt               0.017475\n",
       "remainder__synack               0.018497\n",
       "remainder__ackdat               0.016091\n",
       "remainder__smean                0.053321\n",
       "remainder__dmean                0.025720\n",
       "remainder__trans_depth          0.002516\n",
       "remainder__response_body_len    0.002860\n",
       "remainder__ct_srv_src           0.034947\n",
       "remainder__ct_state_ttl         0.050606\n",
       "remainder__ct_dst_ltm           0.022575\n",
       "remainder__ct_src_dport_ltm     0.046816\n",
       "remainder__ct_dst_sport_ltm     0.049057\n",
       "remainder__ct_dst_src_ltm       0.044208\n",
       "remainder__is_ftp_login         0.000109\n",
       "remainder__ct_ftp_cmd           0.000127\n",
       "remainder__ct_flw_http_mthd     0.003376\n",
       "remainder__ct_src_ltm           0.018329\n",
       "remainder__ct_srv_dst           0.063349\n",
       "remainder__is_sm_ips_ports      0.001794\n",
       "dtype: float64"
      ]
     },
     "execution_count": 21,
     "metadata": {},
     "output_type": "execute_result"
    }
   ],
   "source": [
    "feature_importances"
   ]
  },
  {
   "cell_type": "code",
   "execution_count": 22,
   "id": "4f599f8b-d01b-4450-9d58-f774daf505af",
   "metadata": {},
   "outputs": [],
   "source": [
    "top_40_features = [\n",
    "    \"sttl\",\n",
    "    \"PC1\",\n",
    "    \"dttl\",\n",
    "    \"ct_dst_src_ltm\",\n",
    "    \"ct_dst_ltm\",\n",
    "    \"ct_dst_sport_ltm\",\n",
    "    \"ct_state_ttl\",\n",
    "    \"ct_src_dport_ltm\",\n",
    "    \"ct_src_ltm\",\n",
    "    \"ct_srv_dst\",\n",
    "    \"ct_srv_src\",\n",
    "    \"ackdat\",\n",
    "    \"tcprtt\",\n",
    "    \"sbytes\",\n",
    "    \"smean\",\n",
    "    \"dload\",\n",
    "    \"rate\",\n",
    "    \"dmean\",\n",
    "    \"dur\",\n",
    "    \"PC3\",\n",
    "    \"PC10\",\n",
    "    \"dbytes\",\n",
    "    \"synack\",\n",
    "    \"PC2\",\n",
    "    \"ct_flw_http_mthd\",\n",
    "    \"trans_depth\",\n",
    "    \"PC4\",\n",
    "    \"sload\",\n",
    "    \"PC5\",\n",
    "    \"sinpkt\",\n",
    "    \"PC8\",\n",
    "    \"spkts\",\n",
    "    \"dpkts\",\n",
    "    \"PC9\",\n",
    "    \"sloss\",\n",
    "    \"sjit\",\n",
    "    \"PC7\",\n",
    "    \"dloss\",\n",
    "    \"dwin\",\n",
    "    \"swin\"\n",
    "]"
   ]
  },
  {
   "cell_type": "code",
   "execution_count": 23,
   "id": "72805ac9-20ef-4b74-be70-1e6bdf82cba4",
   "metadata": {},
   "outputs": [],
   "source": [
    "from sklearn.feature_selection import f_classif #computes ANOVA \n",
    "from sklearn.feature_selection import SelectKBest  #Orders f statistics and selects the Kbest ones\n",
    "\n",
    "def anova_test():\n",
    "\n",
    "    \n",
    "    X_vars = train_data_X[train_data_X.select_dtypes(include='number').columns]\n",
    "    \n",
    "    y_var = train_data_y\n",
    "    \n",
    "    anova = SelectKBest(f_classif, k=40) #we choose to keep the 10 best ones, try different numbers\n",
    "    \n",
    "    \n",
    "    X_anova = anova.fit_transform(X_vars, y_var)\n",
    "    \n",
    "    anova_results = pd.DataFrame({'Feature': X_vars.columns, \n",
    "                                  'F-value': anova.scores_,\n",
    "                                  'p-value': anova.pvalues_})\n",
    "    \n",
    "    anova_results.sort_values(by='F-value', ascending=False, inplace=True)\n",
    "\n",
    "    \n",
    "    selected_features = pd.Series(anova.get_support(), index = X_vars.columns)\n",
    "    features_to_use = [feature for feature, keep in selected_features.items() if keep]\n",
    "\n",
    "    features_to_use_str = '\", \"'.join(features_to_use)\n",
    "    \n",
    "    return selected_features, anova_results, features_to_use_str,features_to_use"
   ]
  },
  {
   "cell_type": "code",
   "execution_count": 24,
   "id": "274cf472-2ba7-457e-9b57-19cbec027843",
   "metadata": {},
   "outputs": [],
   "source": [
    "selected_features, anova_results, features_to_use_str,features_to_use = anova_test()"
   ]
  },
  {
   "cell_type": "code",
   "execution_count": 25,
   "id": "03d62f5e-a44a-4930-9c89-85e4d3f84270",
   "metadata": {},
   "outputs": [],
   "source": [
    "features = features_to_use"
   ]
  },
  {
   "cell_type": "markdown",
   "id": "a4fec4c1-e780-4ade-b035-e8e6469310af",
   "metadata": {},
   "source": [
    "# Modelling"
   ]
  },
  {
   "cell_type": "markdown",
   "id": "e035c2ae-2be5-4249-bb01-77bc7d29585d",
   "metadata": {},
   "source": [
    "## Modelling EfficentKan"
   ]
  },
  {
   "cell_type": "code",
   "execution_count": 26,
   "id": "58ccf7cd-d4f0-49f5-9b06-ed0b2d444d85",
   "metadata": {},
   "outputs": [],
   "source": [
    "#train_X_tensor = torch.tensor(train_data_X[features].values, dtype=torch.float32).squeeze()\n",
    "#test_X_tensor = torch.tensor(test_data_X[features].values, dtype=torch.float32).squeeze() #changed to have all features\n",
    "\n",
    "train_X_tensor = torch.tensor(train_data_X[features_to_use].values, dtype=torch.float32).squeeze()\n",
    "test_X_tensor = torch.tensor(test_data_X[features_to_use].values, dtype=torch.float32).squeeze()\n",
    "\n",
    "train_Y_tensor = torch.tensor(train_data_y.values, dtype=torch.long).squeeze()\n",
    "\n",
    "test_Y_tensor = torch.tensor(test_data_y.values, dtype=torch.long).squeeze()\n",
    "#a dictionary with the 4 datasets"
   ]
  },
  {
   "cell_type": "code",
   "execution_count": 27,
   "id": "1357325e-6c3f-4696-ac8c-9c4ab4c8a290",
   "metadata": {},
   "outputs": [],
   "source": [
    "from torch import nn\n",
    "from torch.utils.data import TensorDataset\n",
    "from torch.utils.data import DataLoader"
   ]
  },
  {
   "cell_type": "code",
   "execution_count": 28,
   "id": "5b9c01a6-69d2-466f-88eb-3bfa57eee8ea",
   "metadata": {},
   "outputs": [],
   "source": [
    "\n",
    "# Create TensorDatasets\n",
    "train_dataset = TensorDataset(train_X_tensor, train_Y_tensor)\n",
    "test_dataset = TensorDataset(test_X_tensor, test_Y_tensor)\n"
   ]
  },
  {
   "cell_type": "code",
   "execution_count": 29,
   "id": "e638f1d3-b977-41bb-b150-6698ce803af9",
   "metadata": {},
   "outputs": [],
   "source": [
    "train_dataloader = DataLoader(train_dataset, batch_size=16, shuffle=True)\n",
    "test_dataloader = DataLoader(test_dataset, batch_size=16, shuffle=False)"
   ]
  },
  {
   "cell_type": "markdown",
   "id": "2519ea5f-6950-458e-aaae-c3d4aae9ecf0",
   "metadata": {},
   "source": [
    "## Modelling with efficient Kan"
   ]
  },
  {
   "cell_type": "code",
   "execution_count": 30,
   "id": "6e2a8d00-9e61-4d23-b6d7-c0b81cf1312d",
   "metadata": {},
   "outputs": [],
   "source": [
    "#\n"
   ]
  },
  {
   "cell_type": "code",
   "execution_count": 31,
   "id": "4c90c1ca-27d1-4494-9b5b-d6ec3020f743",
   "metadata": {},
   "outputs": [],
   "source": [
    "from efficient_kan import KAN"
   ]
  },
  {
   "cell_type": "code",
   "execution_count": 32,
   "id": "3c4eaf5f-fbfd-4db6-b316-e5b93ee0a55d",
   "metadata": {},
   "outputs": [],
   "source": [
    "import torch\n",
    "import torch.nn as nn\n",
    "import torch.optim as optim\n",
    "import torchvision\n",
    "from torch.utils.data import DataLoader\n",
    "from tqdm import tqdm\n",
    "\n",
    "# Define model\n",
    "model = KAN([40, 64, 10])\n",
    "device = torch.device(\"cuda\" if torch.cuda.is_available() else \"cpu\")\n",
    "model.to(device)\n",
    "\n",
    "# Define optimizer\n",
    "optimizer = optim.AdamW(model.parameters(), lr=1e-3, weight_decay=1e-4)\n",
    "# Define learning rate scheduler\n",
    "scheduler = optim.lr_scheduler.ExponentialLR(optimizer, gamma=0.8)\n",
    "\n",
    "# Define loss\n",
    "criterion = nn.CrossEntropyLoss()"
   ]
  },
  {
   "cell_type": "code",
   "execution_count": 33,
   "id": "c8606303-5979-499a-9480-020063f0530e",
   "metadata": {},
   "outputs": [
    {
     "data": {
      "text/plain": [
       "(5, 3)"
      ]
     },
     "execution_count": 33,
     "metadata": {},
     "output_type": "execute_result"
    }
   ],
   "source": [
    "model.grid_size, model.spline_order"
   ]
  },
  {
   "cell_type": "code",
   "execution_count": 34,
   "id": "00e210a4-fe86-4b81-813b-4ddfc926ecbe",
   "metadata": {},
   "outputs": [],
   "source": [
    "from sklearn.model_selection import KFold"
   ]
  },
  {
   "cell_type": "code",
   "execution_count": 35,
   "id": "370ae572-eb21-41d2-b309-d7526d5413cd",
   "metadata": {},
   "outputs": [],
   "source": [
    "model = KAN([40, 20,10, 5,10],grid_size = 4, spline_order = 2, scale_noise=0.2, scale_base=0.2, scale_spline=0.2)"
   ]
  },
  {
   "cell_type": "code",
   "execution_count": 36,
   "id": "6d53a788-40a9-46d1-b42e-dc9948a173d9",
   "metadata": {},
   "outputs": [],
   "source": [
    "from sklearn.metrics import f1_score\n",
    "loss_over_train = []\n",
    "loss_over_test = []\n",
    "def train_loop(dataloader, model, loss_fn, optimizer):\n",
    "    size = len(dataloader.dataset)\n",
    "    correct = 0  # For accuracy tracking\n",
    "    total = 0\n",
    "    epoch_loss = 0\n",
    "    \n",
    "    model.train()\n",
    "    for batch, (X, y) in enumerate(dataloader):\n",
    "        # Compute prediction and loss\n",
    "        pred = model(X)\n",
    "        loss = loss_fn(pred, y)\n",
    "\n",
    "        # Backpropagation\n",
    "        loss.backward()\n",
    "        optimizer.step()\n",
    "        optimizer.zero_grad()\n",
    "\n",
    "        epoch_loss += loss.item()\n",
    "\n",
    "        if batch % 100 == 0:\n",
    "            loss, current = loss.item(), batch * len(X)\n",
    "            print(f\"loss: {loss:>7f}  [{current:>5d}/{size:>5d}]\")\n",
    "\n",
    "\n",
    "        \n",
    "        # Calculate accuracy\n",
    "        _, predicted = torch.max(pred, 1)\n",
    "        correct += (predicted == y).sum().item()\n",
    "        total += y.size(0)\n",
    "        \n",
    "    mean_loss = epoch_loss / len(dataloader) \n",
    "    loss_over_train.append(mean_loss)\n",
    "\n",
    "    accuracy = correct / total * 100\n",
    "    print(f\"Train Accuracy: {accuracy:.4f}%\")\n",
    "\n",
    "def test_loop(dataloader, model, loss_fn):\n",
    "    model.eval()  # Set the model to evaluation mode\n",
    "    size = len(dataloader.dataset)\n",
    "    num_batches = len(dataloader)\n",
    "    test_loss, correct = 0, 0\n",
    "    all_preds = []\n",
    "    all_labels = []\n",
    "\n",
    "    with torch.no_grad():\n",
    "        for X, y in dataloader:\n",
    "            pred = model(X)\n",
    "            test_loss += loss_fn(pred, y).item()\n",
    "            correct += (pred.argmax(1) == y).type(torch.float).sum().item()\n",
    "            \n",
    "            # Collect all predictions and true labels for F1-score calculation\n",
    "            all_preds.extend(pred.argmax(1).cpu().numpy())\n",
    "            all_labels.extend(y.cpu().numpy())\n",
    "\n",
    "    mean_loss = test_loss / num_batches  # Divide by the number of batches\n",
    "    loss_over_test.append(mean_loss)\n",
    "\n",
    "    test_loss /= num_batches\n",
    "    correct /= size\n",
    "    f1 = f1_score(all_labels, all_preds, average='weighted') * 100  # Weighted F1-score to handle class imbalance\n",
    "    f1_macro = f1_score(all_labels, all_preds, average='macro') * 100  # Macro F1-score to handle class imbalance\n",
    "\n",
    "    print(f\"Test Error: \\n Accuracy: {(100*correct):>0.1f}%, Avg loss: {test_loss:>8f}, F1-score: {f1:.2f}%, Macro_F1-Score: {f1_macro: .2f}%  \\n\")\n"
   ]
  },
  {
   "cell_type": "code",
   "execution_count": null,
   "id": "8b92990a-790c-4d0d-b1fe-550199e0b99a",
   "metadata": {
    "scrolled": true
   },
   "outputs": [
    {
     "name": "stdout",
     "output_type": "stream",
     "text": [
      "Epoch 1\n",
      "-------------------------------\n",
      "loss: 2.295012  [    0/175341]\n",
      "loss: 2.224642  [ 1600/175341]\n",
      "loss: 2.113190  [ 3200/175341]\n",
      "loss: 2.097637  [ 4800/175341]\n",
      "loss: 2.033400  [ 6400/175341]\n",
      "loss: 1.939660  [ 8000/175341]\n",
      "loss: 1.998544  [ 9600/175341]\n",
      "loss: 1.879379  [11200/175341]\n",
      "loss: 1.737584  [12800/175341]\n",
      "loss: 1.709894  [14400/175341]\n",
      "loss: 1.451922  [16000/175341]\n",
      "loss: 1.586764  [17600/175341]\n",
      "loss: 1.565755  [19200/175341]\n",
      "loss: 1.411953  [20800/175341]\n",
      "loss: 1.762241  [22400/175341]\n",
      "loss: 0.882800  [24000/175341]\n",
      "loss: 1.057228  [25600/175341]\n",
      "loss: 1.115941  [27200/175341]\n",
      "loss: 1.286024  [28800/175341]\n",
      "loss: 1.276737  [30400/175341]\n",
      "loss: 1.589648  [32000/175341]\n",
      "loss: 0.974829  [33600/175341]\n",
      "loss: 0.871608  [35200/175341]\n",
      "loss: 1.674283  [36800/175341]\n",
      "loss: 1.103882  [38400/175341]\n",
      "loss: 1.211319  [40000/175341]\n",
      "loss: 1.169434  [41600/175341]\n",
      "loss: 1.647577  [43200/175341]\n",
      "loss: 1.347715  [44800/175341]\n",
      "loss: 1.044279  [46400/175341]\n",
      "loss: 0.902597  [48000/175341]\n",
      "loss: 0.472582  [49600/175341]\n",
      "loss: 0.924252  [51200/175341]\n",
      "loss: 0.971325  [52800/175341]\n",
      "loss: 0.570583  [54400/175341]\n",
      "loss: 1.356464  [56000/175341]\n",
      "loss: 0.960874  [57600/175341]\n",
      "loss: 0.872043  [59200/175341]\n",
      "loss: 1.473607  [60800/175341]\n",
      "loss: 1.157182  [62400/175341]\n",
      "loss: 0.929229  [64000/175341]\n",
      "loss: 0.941142  [65600/175341]\n",
      "loss: 0.381320  [67200/175341]\n",
      "loss: 1.127494  [68800/175341]\n",
      "loss: 1.126363  [70400/175341]\n",
      "loss: 0.837127  [72000/175341]\n",
      "loss: 0.791688  [73600/175341]\n",
      "loss: 0.541942  [75200/175341]\n",
      "loss: 0.700327  [76800/175341]\n",
      "loss: 0.962996  [78400/175341]\n",
      "loss: 0.948840  [80000/175341]\n",
      "loss: 0.568002  [81600/175341]\n",
      "loss: 0.729663  [83200/175341]\n",
      "loss: 0.699911  [84800/175341]\n",
      "loss: 1.455408  [86400/175341]\n",
      "loss: 0.677131  [88000/175341]\n",
      "loss: 0.524372  [89600/175341]\n",
      "loss: 0.866163  [91200/175341]\n",
      "loss: 1.173917  [92800/175341]\n",
      "loss: 0.536298  [94400/175341]\n",
      "loss: 0.438051  [96000/175341]\n",
      "loss: 0.839444  [97600/175341]\n",
      "loss: 1.119538  [99200/175341]\n",
      "loss: 0.507658  [100800/175341]\n",
      "loss: 0.679990  [102400/175341]\n",
      "loss: 0.571968  [104000/175341]\n",
      "loss: 1.010260  [105600/175341]\n",
      "loss: 0.491645  [107200/175341]\n",
      "loss: 0.797122  [108800/175341]\n",
      "loss: 0.471133  [110400/175341]\n",
      "loss: 0.242465  [112000/175341]\n",
      "loss: 0.584023  [113600/175341]\n",
      "loss: 0.945797  [115200/175341]\n",
      "loss: 1.098178  [116800/175341]\n",
      "loss: 0.494031  [118400/175341]\n",
      "loss: 0.722448  [120000/175341]\n",
      "loss: 0.763559  [121600/175341]\n",
      "loss: 0.691991  [123200/175341]\n",
      "loss: 0.883101  [124800/175341]\n",
      "loss: 0.586954  [126400/175341]\n",
      "loss: 0.524845  [128000/175341]\n",
      "loss: 1.081674  [129600/175341]\n",
      "loss: 1.027918  [131200/175341]\n",
      "loss: 0.384539  [132800/175341]\n",
      "loss: 0.365410  [134400/175341]\n",
      "loss: 1.066736  [136000/175341]\n",
      "loss: 0.220108  [137600/175341]\n",
      "loss: 0.821537  [139200/175341]\n",
      "loss: 0.643267  [140800/175341]\n",
      "loss: 0.498931  [142400/175341]\n",
      "loss: 0.846018  [144000/175341]\n",
      "loss: 0.715699  [145600/175341]\n",
      "loss: 0.430063  [147200/175341]\n",
      "loss: 0.553950  [148800/175341]\n",
      "loss: 0.517102  [150400/175341]\n",
      "loss: 0.748560  [152000/175341]\n",
      "loss: 0.702190  [153600/175341]\n",
      "loss: 0.669678  [155200/175341]\n",
      "loss: 0.931016  [156800/175341]\n",
      "loss: 0.658363  [158400/175341]\n",
      "loss: 0.546423  [160000/175341]\n",
      "loss: 0.372591  [161600/175341]\n",
      "loss: 0.485150  [163200/175341]\n",
      "loss: 1.056723  [164800/175341]\n",
      "loss: 0.894898  [166400/175341]\n",
      "loss: 0.619522  [168000/175341]\n",
      "loss: 0.389306  [169600/175341]\n",
      "loss: 0.149685  [171200/175341]\n",
      "loss: 0.751222  [172800/175341]\n",
      "loss: 0.998528  [174400/175341]\n",
      "Train Accuracy: 69.9391%\n",
      "Test Error: \n",
      " Accuracy: 68.7%, Avg loss: 0.729939, F1-score: 69.54%, Macro_F1-Score:  31.78%  \n",
      "\n",
      "Epoch 2\n",
      "-------------------------------\n",
      "loss: 0.460936  [    0/175341]\n",
      "loss: 0.769183  [ 1600/175341]\n",
      "loss: 0.743664  [ 3200/175341]\n",
      "loss: 0.997418  [ 4800/175341]\n",
      "loss: 0.586214  [ 6400/175341]\n",
      "loss: 0.714994  [ 8000/175341]\n",
      "loss: 0.788271  [ 9600/175341]\n",
      "loss: 0.388668  [11200/175341]\n",
      "loss: 0.514049  [12800/175341]\n",
      "loss: 1.262441  [14400/175341]\n",
      "loss: 0.653660  [16000/175341]\n",
      "loss: 0.320085  [17600/175341]\n",
      "loss: 0.851639  [19200/175341]\n",
      "loss: 1.043648  [20800/175341]\n",
      "loss: 0.569183  [22400/175341]\n",
      "loss: 0.610938  [24000/175341]\n",
      "loss: 0.570839  [25600/175341]\n",
      "loss: 0.597004  [27200/175341]\n",
      "loss: 1.071718  [28800/175341]\n",
      "loss: 0.744475  [30400/175341]\n",
      "loss: 0.598309  [32000/175341]\n",
      "loss: 0.502215  [33600/175341]\n",
      "loss: 0.731432  [35200/175341]\n",
      "loss: 0.500959  [36800/175341]\n",
      "loss: 0.364731  [38400/175341]\n",
      "loss: 0.331660  [40000/175341]\n",
      "loss: 0.669442  [41600/175341]\n",
      "loss: 0.535244  [43200/175341]\n",
      "loss: 0.191713  [44800/175341]\n",
      "loss: 0.663592  [46400/175341]\n",
      "loss: 0.855005  [48000/175341]\n",
      "loss: 0.427073  [49600/175341]\n",
      "loss: 0.647251  [51200/175341]\n",
      "loss: 0.769788  [52800/175341]\n",
      "loss: 0.620945  [54400/175341]\n",
      "loss: 1.070548  [56000/175341]\n",
      "loss: 0.521862  [57600/175341]\n",
      "loss: 0.998974  [59200/175341]\n",
      "loss: 0.567335  [60800/175341]\n",
      "loss: 0.768013  [62400/175341]\n",
      "loss: 0.411026  [64000/175341]\n",
      "loss: 0.406871  [65600/175341]\n",
      "loss: 0.824842  [67200/175341]\n",
      "loss: 0.276262  [68800/175341]\n",
      "loss: 0.861747  [70400/175341]\n",
      "loss: 0.428302  [72000/175341]\n",
      "loss: 0.770983  [73600/175341]\n",
      "loss: 0.778525  [75200/175341]\n",
      "loss: 0.768918  [76800/175341]\n",
      "loss: 0.513122  [78400/175341]\n",
      "loss: 0.438452  [80000/175341]\n",
      "loss: 0.326779  [81600/175341]\n",
      "loss: 0.592591  [83200/175341]\n",
      "loss: 0.200913  [84800/175341]\n",
      "loss: 0.651766  [86400/175341]\n",
      "loss: 0.607004  [88000/175341]\n",
      "loss: 0.846120  [89600/175341]\n",
      "loss: 0.755694  [91200/175341]\n",
      "loss: 0.414258  [92800/175341]\n",
      "loss: 0.590420  [94400/175341]\n",
      "loss: 0.335403  [96000/175341]\n",
      "loss: 0.390333  [97600/175341]\n",
      "loss: 0.550770  [99200/175341]\n",
      "loss: 0.571711  [100800/175341]\n",
      "loss: 0.599659  [102400/175341]\n",
      "loss: 0.824928  [104000/175341]\n",
      "loss: 0.523243  [105600/175341]\n",
      "loss: 0.418653  [107200/175341]\n",
      "loss: 0.759301  [108800/175341]\n",
      "loss: 0.569687  [110400/175341]\n",
      "loss: 1.268860  [112000/175341]\n",
      "loss: 0.541272  [113600/175341]\n",
      "loss: 0.461252  [115200/175341]\n",
      "loss: 0.673343  [116800/175341]\n",
      "loss: 1.460944  [118400/175341]\n",
      "loss: 0.586659  [120000/175341]\n",
      "loss: 0.431775  [121600/175341]\n",
      "loss: 0.810291  [123200/175341]\n",
      "loss: 0.196353  [124800/175341]\n",
      "loss: 0.454354  [126400/175341]\n",
      "loss: 0.599056  [128000/175341]\n",
      "loss: 1.029609  [129600/175341]\n",
      "loss: 1.018761  [131200/175341]\n",
      "loss: 0.475944  [132800/175341]\n",
      "loss: 0.378166  [134400/175341]\n",
      "loss: 0.756422  [136000/175341]\n",
      "loss: 0.881111  [137600/175341]\n",
      "loss: 1.000921  [139200/175341]\n",
      "loss: 0.852985  [140800/175341]\n",
      "loss: 0.534488  [142400/175341]\n",
      "loss: 0.894091  [144000/175341]\n",
      "loss: 0.294243  [145600/175341]\n",
      "loss: 0.689365  [147200/175341]\n",
      "loss: 0.850775  [148800/175341]\n",
      "loss: 0.550506  [150400/175341]\n",
      "loss: 0.395923  [152000/175341]\n",
      "loss: 0.674982  [153600/175341]\n",
      "loss: 0.731217  [155200/175341]\n",
      "loss: 0.585253  [156800/175341]\n",
      "loss: 0.760895  [158400/175341]\n",
      "loss: 0.417304  [160000/175341]\n",
      "loss: 1.335568  [161600/175341]\n",
      "loss: 0.644382  [163200/175341]\n",
      "loss: 0.189438  [164800/175341]\n",
      "loss: 0.959369  [166400/175341]\n",
      "loss: 0.528932  [168000/175341]\n",
      "loss: 0.424486  [169600/175341]\n",
      "loss: 1.153742  [171200/175341]\n",
      "loss: 0.898417  [172800/175341]\n",
      "loss: 0.480496  [174400/175341]\n",
      "Train Accuracy: 77.3755%\n",
      "Test Error: \n",
      " Accuracy: 71.6%, Avg loss: 0.682443, F1-score: 71.91%, Macro_F1-Score:  33.63%  \n",
      "\n",
      "Epoch 3\n",
      "-------------------------------\n",
      "loss: 0.554783  [    0/175341]\n",
      "loss: 0.511144  [ 1600/175341]\n",
      "loss: 0.577095  [ 3200/175341]\n",
      "loss: 0.980311  [ 4800/175341]\n",
      "loss: 0.913635  [ 6400/175341]\n",
      "loss: 1.108009  [ 8000/175341]\n",
      "loss: 1.158102  [ 9600/175341]\n",
      "loss: 0.469100  [11200/175341]\n",
      "loss: 0.196776  [12800/175341]\n",
      "loss: 0.473785  [14400/175341]\n",
      "loss: 0.469154  [16000/175341]\n",
      "loss: 0.832638  [17600/175341]\n",
      "loss: 0.215289  [19200/175341]\n",
      "loss: 0.188575  [20800/175341]\n",
      "loss: 0.563652  [22400/175341]\n",
      "loss: 0.575318  [24000/175341]\n",
      "loss: 0.565754  [25600/175341]\n",
      "loss: 0.597985  [27200/175341]\n",
      "loss: 0.442994  [28800/175341]\n",
      "loss: 0.368341  [30400/175341]\n",
      "loss: 0.598261  [32000/175341]\n"
     ]
    }
   ],
   "source": [
    "loss_fn = nn.CrossEntropyLoss()\n",
    "#loss_fn = FocalLoss(alpha=0.5, gamma = 1)\n",
    "optimizer = torch.optim.Adam(model.parameters(), lr=0.0001,weight_decay=1e-4) #using L2 regularization\n",
    "\n",
    "epochs = 200\n",
    "for t in range(epochs):\n",
    "    print(f\"Epoch {t+1}\\n-------------------------------\")\n",
    "    train_loop(train_dataloader, model, loss_fn, optimizer)\n",
    "    test_loop(test_dataloader, model, loss_fn)\n",
    "print(\"Done!\") #wider network"
   ]
  },
  {
   "cell_type": "code",
   "execution_count": null,
   "id": "9c2362c3-f2fe-4d79-ab22-038e027752ac",
   "metadata": {},
   "outputs": [],
   "source": [
    "model = KAN([40, 20,10, 5,10],grid_size = 6, spline_order = 3, scale_noise=0.2, scale_base=0.2, scale_spline=0.2)\n",
    "loss_over_train = []\n",
    "loss_over_test = []"
   ]
  },
  {
   "cell_type": "code",
   "execution_count": null,
   "id": "fdafbf2b-d151-40e6-b9d2-35b65c2b9781",
   "metadata": {
    "scrolled": true
   },
   "outputs": [],
   "source": [
    "loss_fn = nn.CrossEntropyLoss()\n",
    "#loss_fn = FocalLoss(alpha=0.5, gamma = 1)\n",
    "\n",
    "optimizer = torch.optim.Adam(model.parameters(), lr=0.0001,weight_decay=1e-4)\n",
    "\n",
    "epochs = 200\n",
    "for t in range(epochs):\n",
    "    print(f\"Epoch {t+1}\\n-------------------------------\")\n",
    "    train_loop(train_dataloader, model, loss_fn, optimizer)\n",
    "    test_loop(test_dataloader, model, loss_fn)\n",
    "print(\"Done!\")"
   ]
  },
  {
   "cell_type": "code",
   "execution_count": null,
   "id": "4b427034-602d-4252-af52-9c7d0908f074",
   "metadata": {
    "scrolled": true
   },
   "outputs": [],
   "source": [
    "loss_fn = nn.CrossEntropyLoss()\n",
    "optimizer = torch.optim.Adam(model.parameters(), lr=0.0001,weight_decay=1e-4)\n",
    "\n",
    "epochs = 200\n",
    "for t in range(epochs):\n",
    "    print(f\"Epoch {t+1}\\n-------------------------------\")\n",
    "    train_loop(train_dataloader, model, loss_fn, optimizer)\n",
    "    test_loop(test_dataloader, model, loss_fn)\n",
    "print(\"Done!\")"
   ]
  },
  {
   "cell_type": "code",
   "execution_count": null,
   "id": "3115f1b7-87f8-41a5-8992-af1752600f88",
   "metadata": {
    "scrolled": true
   },
   "outputs": [],
   "source": [
    "loss_fn = nn.CrossEntropyLoss()\n",
    "optimizer = torch.optim.Adam(model.parameters(), lr=0.0001,weight_decay=1e-4)\n",
    "\n",
    "epochs = 20\n",
    "for t in range(epochs):\n",
    "    print(f\"Epoch {t+1}\\n-------------------------------\")\n",
    "    train_loop(train_dataloader, model, loss_fn, optimizer)\n",
    "    test_loop(test_dataloader, model, loss_fn)\n",
    "print(\"Done!\")"
   ]
  },
  {
   "cell_type": "code",
   "execution_count": null,
   "id": "c6add252-99f2-4d32-bb41-6e558870ac52",
   "metadata": {},
   "outputs": [],
   "source": [
    "#since the traind and test loops keep appending to the loss over train/test lists\n",
    "plt.plot(x_axis[:len(loss_over_train)], loss_over_train, label=\"Training Loss\")\n",
    "plt.plot(x_axis[:len(loss_over_test)], loss_over_test, label=\"Testing Loss\")\n",
    "plt.xlabel(\"Epoch\")\n",
    "plt.ylabel(\"Loss\")\n",
    "plt.title(\"Training and Testing Loss over Epochs\")\n",
    "plt.legend()\n",
    "plt.show()"
   ]
  },
  {
   "cell_type": "markdown",
   "id": "9c46642c-d070-4eed-bfb4-3c5a7d21e93c",
   "metadata": {},
   "source": [
    "# Confusion Matrix"
   ]
  },
  {
   "cell_type": "code",
   "execution_count": null,
   "id": "605965a8-0cd9-434c-aee0-478a4531365f",
   "metadata": {},
   "outputs": [],
   "source": [
    "import pickle\n",
    "import pandas as pd\n",
    "\n",
    "# Load the LabelEncoder object from the file\n",
    "with open(r\"C:\\Users\\ADMIN\\Desktop\\Thesis Space Desktop\\Data After Preprocess\\label_encoder.pkl\", \"rb\") as f:\n",
    "    label_encoder = pickle.load(f)\n",
    "\n",
    "\n",
    "# Now you can use the label_encoder object in the second notebook\n",
    "original_class_labels = label_encoder.classes_"
   ]
  },
  {
   "cell_type": "code",
   "execution_count": null,
   "id": "f37c1d9c-dcf8-497e-931d-9ad812150687",
   "metadata": {},
   "outputs": [],
   "source": [
    "original_labels_test = label_encoder.inverse_transform(test_data_y.values.flatten())"
   ]
  },
  {
   "cell_type": "code",
   "execution_count": null,
   "id": "c1517902-9ea6-4c23-8654-e295a0f3c84d",
   "metadata": {},
   "outputs": [],
   "source": [
    "import torch\n",
    "import matplotlib.pyplot as plt\n",
    "from sklearn.metrics import confusion_matrix, ConfusionMatrixDisplay\n",
    "\n",
    "# Ensure the model is in evaluation mode\n",
    "model.eval()\n",
    "\n",
    "with torch.no_grad():\n",
    "    y_pred = model(test_X_tensor)  # Forward pass\n",
    "    y_pred = torch.argmax(y_pred, dim=1)  # Get class predictions\n",
    "\n",
    "# Convert tensors to NumPy arrays for sklearn\n",
    "y_pred = y_pred.cpu().numpy()\n",
    "y_true = test_Y_tensor.cpu().numpy()\n",
    "\n",
    "# Compute confusion matrix\n",
    "cm = confusion_matrix(y_true, y_pred)\n",
    "\n",
    "# Get class labels from the LabelEncoder\n",
    "class_labels = label_encoder.classes_\n",
    "\n",
    "fig, ax = plt.subplots(figsize=(12, 8))  #Creates both a figure and an ax\n",
    "\n",
    "disp = ConfusionMatrixDisplay(confusion_matrix=cm, display_labels=class_labels)\n",
    "disp.plot(cmap='Blues', values_format='d', ax=ax)\n",
    "\n",
    "# Rotate axis labels for better visibility\n",
    "plt.xticks(rotation=45)\n",
    "plt.yticks(rotation=45)\n",
    "\n",
    "# Show the plot\n",
    "plt.show()"
   ]
  },
  {
   "cell_type": "code",
   "execution_count": null,
   "id": "0cd35ae8-6d07-4480-ac58-1ed59db4db74",
   "metadata": {},
   "outputs": [],
   "source": [
    "import torch.nn.functional as F\n",
    "\n",
    "with torch.no_grad():\n",
    "    y_score = F.softmax(model(test_X_tensor), dim=1)"
   ]
  },
  {
   "cell_type": "code",
   "execution_count": null,
   "id": "10dcbd44-687c-45a2-9c00-879918c67e42",
   "metadata": {},
   "outputs": [],
   "source": [
    "np.average(y_score.numpy())"
   ]
  },
  {
   "cell_type": "code",
   "execution_count": null,
   "id": "bdcd8846-8af7-4fd7-9d88-9fefb32eb6ef",
   "metadata": {},
   "outputs": [],
   "source": [
    "from sklearn.preprocessing import LabelBinarizer\n",
    "\n",
    "label_binarizer = LabelBinarizer().fit(train_data_y)\n",
    "y_onehot_test = label_binarizer.transform(test_labels_encoded)\n",
    "y_onehot_test.shape  # (n_samples, n_classes)"
   ]
  },
  {
   "cell_type": "code",
   "execution_count": null,
   "id": "ff20700c-6029-414e-bac8-a661f60724a1",
   "metadata": {},
   "outputs": [],
   "source": [
    "from sklearn.metrics import RocCurveDisplay\n",
    "\n",
    "display = RocCurveDisplay.from_predictions(\n",
    "    y_onehot_test.ravel(),\n",
    "    y_score.ravel(),\n",
    "    name=\"micro-average OvR\",\n",
    "    color=\"darkorange\",\n",
    "    plot_chance_level=True)\n",
    "_ = display.ax_.set(\n",
    "    xlabel=\"False Positive Rate\",\n",
    "    ylabel=\"True Positive Rate\",\n",
    "    title=\"Micro-averaged One-vs-Rest\\nReceiver Operating Characteristic\",\n",
    ")"
   ]
  },
  {
   "cell_type": "code",
   "execution_count": null,
   "id": "78b16805-13a2-47e6-8c8d-cc677b5aa227",
   "metadata": {},
   "outputs": [],
   "source": []
  },
  {
   "cell_type": "code",
   "execution_count": null,
   "id": "4aa08a28-cb43-4ecb-924e-34c39a6b8702",
   "metadata": {},
   "outputs": [],
   "source": []
  },
  {
   "cell_type": "code",
   "execution_count": null,
   "id": "9686dbe6-e354-46d6-98e8-d9eb3f4e5949",
   "metadata": {},
   "outputs": [],
   "source": []
  },
  {
   "cell_type": "code",
   "execution_count": null,
   "id": "6d2d2a7e-e9a4-43a1-8731-3345a578a4d2",
   "metadata": {},
   "outputs": [],
   "source": []
  },
  {
   "cell_type": "code",
   "execution_count": null,
   "id": "bd505fb2-28cc-44a8-beb3-4baee288e02d",
   "metadata": {},
   "outputs": [],
   "source": []
  },
  {
   "cell_type": "code",
   "execution_count": null,
   "id": "49f79f78-753b-4d86-89bc-6f85eec05b4e",
   "metadata": {},
   "outputs": [],
   "source": []
  }
 ],
 "metadata": {
  "kernelspec": {
   "display_name": "Python 3 (ipykernel)",
   "language": "python",
   "name": "python3"
  },
  "language_info": {
   "codemirror_mode": {
    "name": "ipython",
    "version": 3
   },
   "file_extension": ".py",
   "mimetype": "text/x-python",
   "name": "python",
   "nbconvert_exporter": "python",
   "pygments_lexer": "ipython3",
   "version": "3.13.2"
  }
 },
 "nbformat": 4,
 "nbformat_minor": 5
}
