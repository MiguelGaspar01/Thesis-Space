{
 "cells": [
  {
   "cell_type": "code",
   "execution_count": 1,
   "id": "444a49bd-270c-4174-8a95-e94d53f0f235",
   "metadata": {},
   "outputs": [],
   "source": [
    "import pandas as pd\n",
    "import numpy as np\n",
    "import matplotlib.pyplot as plt\n",
    "import seaborn as sns\n",
    "\n",
    "import torch\n",
    "#pip install git+https://github.com/KindXiaoming/pykan.git\n",
    "import sys\n"
   ]
  },
  {
   "cell_type": "code",
   "execution_count": 2,
   "id": "5ed6d0c0-22ce-4494-967a-a09a640ae412",
   "metadata": {},
   "outputs": [],
   "source": [
    "import random\n",
    "import numpy as np\n",
    "import torch\n",
    "import os\n",
    "\n",
    "def set_global_seed(seed=42):\n",
    "    \"\"\"Set seed for reproducibility across NumPy, PyTorch, and OS operations.\"\"\"\n",
    "    \n",
    "    # Set Python random seed\n",
    "    random.seed(seed)\n",
    "    \n",
    "    # Set NumPy random seed\n",
    "    np.random.seed(seed)\n",
    "    \n",
    "    # Set PyTorch random seed\n",
    "    torch.manual_seed(seed)\n",
    "    torch.cuda.manual_seed_all(seed)  # If using CUDA\n",
    "    \n",
    "    # Ensure deterministic behavior in PyTorch (optional, can slow training)\n",
    "    torch.backends.cudnn.deterministic = True\n",
    "    torch.backends.cudnn.benchmark = False\n",
    "    \n",
    "    # Set environment variable for other libraries\n",
    "    os.environ[\"PYTHONHASHSEED\"] = str(seed)\n",
    "\n",
    "# Set global seed\n",
    "set_global_seed(42)\n"
   ]
  },
  {
   "cell_type": "code",
   "execution_count": 3,
   "id": "8f75fa4e-1729-49f1-a197-a9b40368377b",
   "metadata": {},
   "outputs": [],
   "source": [
    "test_data_X = pd.read_csv(r\"C:\\Users\\ADMIN\\Desktop\\Thesis Space Desktop\\Data After Preprocess\\processed_test_data_X_data.csv\")\n",
    "train_data_X = pd.read_csv(r\"C:\\Users\\ADMIN\\Desktop\\Thesis Space Desktop\\Data After Preprocess\\processed_train_data_X_data.csv\")\n",
    "test_labels_encoded = pd.read_csv(r\"C:\\Users\\ADMIN\\Desktop\\Thesis Space Desktop\\Data After Preprocess\\processed_test_data_y_data.csv\")\n",
    "train_labels_encoded = pd.read_csv(r\"C:\\Users\\ADMIN\\Desktop\\Thesis Space Desktop\\Data After Preprocess\\processed_train_data_y_data.csv\")"
   ]
  },
  {
   "cell_type": "code",
   "execution_count": 4,
   "id": "75dd1d13-a1c1-4150-8e41-0d8261c19cbd",
   "metadata": {},
   "outputs": [
    {
     "data": {
      "text/plain": [
       "encoder__proto_arp              1.000000\n",
       "encoder__proto_ospf             1.000000\n",
       "encoder__proto_sctp             1.000000\n",
       "encoder__proto_tcp              1.000000\n",
       "encoder__proto_udp              1.000000\n",
       "encoder__proto_unas             1.000000\n",
       "encoder__service_dns            1.000000\n",
       "encoder__service_ftp            1.000000\n",
       "encoder__service_ftp-data       1.000000\n",
       "encoder__service_http           1.000000\n",
       "encoder__service_smtp           1.000000\n",
       "encoder__state_CON              1.000000\n",
       "encoder__state_ECO              0.000000\n",
       "encoder__state_FIN              1.000000\n",
       "encoder__state_INT              1.000000\n",
       "encoder__state_REQ              1.000000\n",
       "encoder__state_RST              1.000000\n",
       "remainder__dur                  1.000000\n",
       "remainder__spkts                1.000000\n",
       "remainder__dpkts                1.000000\n",
       "remainder__sbytes               1.000000\n",
       "remainder__dbytes               1.000000\n",
       "remainder__rate                 1.000000\n",
       "remainder__sttl                 1.000000\n",
       "remainder__dttl                 1.000000\n",
       "remainder__sload                1.000000\n",
       "remainder__dload                0.833859\n",
       "remainder__sloss                1.000000\n",
       "remainder__dloss                1.000000\n",
       "remainder__sinpkt               1.000000\n",
       "remainder__dinpkt               1.000000\n",
       "remainder__sjit                 1.000000\n",
       "remainder__djit                 1.000000\n",
       "remainder__swin                 1.000000\n",
       "remainder__stcpb                1.000000\n",
       "remainder__dtcpb                1.000000\n",
       "remainder__dwin                 1.000000\n",
       "remainder__tcprtt               1.000000\n",
       "remainder__synack               1.000000\n",
       "remainder__ackdat               1.000000\n",
       "remainder__smean                1.000000\n",
       "remainder__dmean                1.000000\n",
       "remainder__trans_depth          0.847327\n",
       "remainder__response_body_len    1.000000\n",
       "remainder__ct_srv_src           1.000000\n",
       "remainder__ct_state_ttl         1.000000\n",
       "remainder__ct_dst_ltm           1.000000\n",
       "remainder__ct_src_dport_ltm     1.000000\n",
       "remainder__ct_dst_sport_ltm     0.821278\n",
       "remainder__ct_dst_src_ltm       1.000000\n",
       "remainder__is_ftp_login         1.000000\n",
       "remainder__ct_ftp_cmd           1.000000\n",
       "remainder__ct_flw_http_mthd     0.810685\n",
       "remainder__ct_src_ltm           1.000000\n",
       "remainder__ct_srv_dst           1.000000\n",
       "remainder__is_sm_ips_ports      1.000000\n",
       "dtype: float64"
      ]
     },
     "execution_count": 4,
     "metadata": {},
     "output_type": "execute_result"
    }
   ],
   "source": [
    "test_data_X.max()"
   ]
  },
  {
   "cell_type": "code",
   "execution_count": 5,
   "id": "6fb2e4ac-d59e-4e27-9f18-e9f0aa674362",
   "metadata": {},
   "outputs": [],
   "source": [
    "train_data_y_binary = train_labels_encoded[\"label\"]\n",
    "test_data_y_binary = test_labels_encoded[\"label\"]"
   ]
  },
  {
   "cell_type": "code",
   "execution_count": 6,
   "id": "d32a12a0-caa3-4e41-98f8-e89a7075914c",
   "metadata": {},
   "outputs": [
    {
     "data": {
      "text/html": [
       "<div>\n",
       "<style scoped>\n",
       "    .dataframe tbody tr th:only-of-type {\n",
       "        vertical-align: middle;\n",
       "    }\n",
       "\n",
       "    .dataframe tbody tr th {\n",
       "        vertical-align: top;\n",
       "    }\n",
       "\n",
       "    .dataframe thead th {\n",
       "        text-align: right;\n",
       "    }\n",
       "</style>\n",
       "<table border=\"1\" class=\"dataframe\">\n",
       "  <thead>\n",
       "    <tr style=\"text-align: right;\">\n",
       "      <th></th>\n",
       "      <th>attack_cat</th>\n",
       "      <th>label</th>\n",
       "    </tr>\n",
       "  </thead>\n",
       "  <tbody>\n",
       "    <tr>\n",
       "      <th>0</th>\n",
       "      <td>6</td>\n",
       "      <td>0.0</td>\n",
       "    </tr>\n",
       "    <tr>\n",
       "      <th>1</th>\n",
       "      <td>6</td>\n",
       "      <td>0.0</td>\n",
       "    </tr>\n",
       "    <tr>\n",
       "      <th>2</th>\n",
       "      <td>6</td>\n",
       "      <td>0.0</td>\n",
       "    </tr>\n",
       "    <tr>\n",
       "      <th>3</th>\n",
       "      <td>6</td>\n",
       "      <td>0.0</td>\n",
       "    </tr>\n",
       "    <tr>\n",
       "      <th>4</th>\n",
       "      <td>6</td>\n",
       "      <td>0.0</td>\n",
       "    </tr>\n",
       "    <tr>\n",
       "      <th>...</th>\n",
       "      <td>...</td>\n",
       "      <td>...</td>\n",
       "    </tr>\n",
       "    <tr>\n",
       "      <th>175336</th>\n",
       "      <td>5</td>\n",
       "      <td>1.0</td>\n",
       "    </tr>\n",
       "    <tr>\n",
       "      <th>175337</th>\n",
       "      <td>8</td>\n",
       "      <td>1.0</td>\n",
       "    </tr>\n",
       "    <tr>\n",
       "      <th>175338</th>\n",
       "      <td>5</td>\n",
       "      <td>1.0</td>\n",
       "    </tr>\n",
       "    <tr>\n",
       "      <th>175339</th>\n",
       "      <td>5</td>\n",
       "      <td>1.0</td>\n",
       "    </tr>\n",
       "    <tr>\n",
       "      <th>175340</th>\n",
       "      <td>5</td>\n",
       "      <td>1.0</td>\n",
       "    </tr>\n",
       "  </tbody>\n",
       "</table>\n",
       "<p>175341 rows × 2 columns</p>\n",
       "</div>"
      ],
      "text/plain": [
       "        attack_cat  label\n",
       "0                6    0.0\n",
       "1                6    0.0\n",
       "2                6    0.0\n",
       "3                6    0.0\n",
       "4                6    0.0\n",
       "...            ...    ...\n",
       "175336           5    1.0\n",
       "175337           8    1.0\n",
       "175338           5    1.0\n",
       "175339           5    1.0\n",
       "175340           5    1.0\n",
       "\n",
       "[175341 rows x 2 columns]"
      ]
     },
     "execution_count": 6,
     "metadata": {},
     "output_type": "execute_result"
    }
   ],
   "source": [
    "train_labels_encoded"
   ]
  },
  {
   "cell_type": "code",
   "execution_count": 7,
   "id": "7dbdef64-5462-455b-96fa-863d4b36bdb0",
   "metadata": {},
   "outputs": [
    {
     "data": {
      "text/plain": [
       "attack_cat  label\n",
       "6           0.0      56000\n",
       "5           1.0      40000\n",
       "3           1.0      33393\n",
       "4           1.0      18184\n",
       "2           1.0      12264\n",
       "7           1.0      10491\n",
       "0           1.0       2000\n",
       "1           1.0       1746\n",
       "8           1.0       1133\n",
       "9           1.0        130\n",
       "Name: count, dtype: int64"
      ]
     },
     "execution_count": 7,
     "metadata": {},
     "output_type": "execute_result"
    }
   ],
   "source": [
    "train_labels_encoded.value_counts()"
   ]
  },
  {
   "cell_type": "code",
   "execution_count": 8,
   "id": "bd2c096b-e87b-4597-a60e-d432d11ad8fc",
   "metadata": {},
   "outputs": [],
   "source": [
    "target_distribution = {\n",
    "    0: 20000,  # Class 0 should have 56000 samples\n",
    "    1: 20000,  # Class 1 should have 56000 samples\n",
    "    2: 30000,  # Class 2 should have 56000 samples\n",
    "    3: 34000,  # Class 3 should have 56000 samples\n",
    "    4: 30000,  # Class 4 should have 56000 samples\n",
    "    5: 41000,  # Class 5 should have 56000 samples\n",
    "    6: 56000,  # Class 6 should have 56000 samples\n",
    "    7: 30000,  # Class 7 should have 56000 samples\n",
    "    8: 20000,  # Class 8 should have 56000 samples\n",
    "    9: 10000,  # Class 9 should have 56000 samples\n",
    "}"
   ]
  },
  {
   "cell_type": "markdown",
   "id": "03bae611-6e41-45ec-93de-712ad2cefa5a",
   "metadata": {},
   "source": [
    "# Resampling"
   ]
  },
  {
   "cell_type": "code",
   "execution_count": 9,
   "id": "45addaf4-c17e-4cb2-94b3-a5c6629a8ef6",
   "metadata": {},
   "outputs": [],
   "source": [
    "from imblearn.under_sampling import RandomUnderSampler\n",
    "from imblearn.over_sampling import ADASYN\n",
    "from imblearn.pipeline import Pipeline\n",
    "import numpy as np\n",
    "\n",
    "# Current class distribution\n",
    "unique, counts = np.unique(train_labels_encoded, return_counts=True)\n",
    "class_distribution = dict(zip(unique, counts))\n",
    "\n",
    "majority_class = 6\n",
    "majority_target_size = class_distribution[majority_class] // 3\n",
    "\n",
    "# Define the target size for the minority classes (e.g., match the majority target size)\n",
    "target_distribution = {cls: majority_target_size for cls in unique}\n",
    "\n",
    "# Step 1: Under-sample the majority class\n",
    "under_sampler = RandomUnderSampler(sampling_strategy={majority_class: majority_target_size}, random_state=42)\n",
    "#train_data_X, train_labels_encoded = under_sampler.fit_resample(train_data_X, train_labels_encoded)"
   ]
  },
  {
   "cell_type": "code",
   "execution_count": 10,
   "id": "96863f09-6fdd-47a1-aa2a-0c75a380e1ab",
   "metadata": {},
   "outputs": [],
   "source": [
    "from imblearn.under_sampling import RandomUnderSampler\n",
    "from imblearn.over_sampling import ADASYN\n",
    "from imblearn.pipeline import Pipeline\n",
    "import numpy as np\n",
    "\n",
    "# Current class distribution\n",
    "unique, counts = np.unique(train_labels_encoded, return_counts=True)\n",
    "class_distribution = dict(zip(unique, counts))\n",
    "\n",
    "majority_class = 5\n",
    "majority_target_size = class_distribution[majority_class] // 3\n",
    "\n",
    "# Define the target size for the minority classes (e.g., match the majority target size)\n",
    "target_distribution = {cls: majority_target_size for cls in unique}\n",
    "\n",
    "# Step 1: Under-sample the majority class\n",
    "under_sampler = RandomUnderSampler(sampling_strategy={majority_class: majority_target_size}, random_state=42)\n",
    "#train_data_X, train_labels_encoded = under_sampler.fit_resample(train_data_X, train_labels_encoded)"
   ]
  },
  {
   "cell_type": "code",
   "execution_count": 11,
   "id": "011c575f-d547-4b41-84c0-1af4ba290d26",
   "metadata": {},
   "outputs": [
    {
     "data": {
      "text/plain": [
       "attack_cat\n",
       "6    56000\n",
       "5    40000\n",
       "3    33393\n",
       "4    18184\n",
       "2    12264\n",
       "7    10491\n",
       "0     2000\n",
       "1     1746\n",
       "8     1133\n",
       "9      130\n",
       "Name: count, dtype: int64"
      ]
     },
     "execution_count": 11,
     "metadata": {},
     "output_type": "execute_result"
    }
   ],
   "source": [
    "train_labels_encoded[\"attack_cat\"].value_counts()"
   ]
  },
  {
   "cell_type": "code",
   "execution_count": 12,
   "id": "5b95a23d-e0ba-48a9-8e8f-a76411be9638",
   "metadata": {},
   "outputs": [],
   "source": [
    "test_data_y = test_labels_encoded[\"attack_cat\"]\n",
    "train_data_y = train_labels_encoded[\"attack_cat\"]"
   ]
  },
  {
   "cell_type": "code",
   "execution_count": 13,
   "id": "901db99f-954c-4b86-bcd8-af1845f20941",
   "metadata": {},
   "outputs": [],
   "source": [
    "from imblearn.under_sampling import EditedNearestNeighbours"
   ]
  },
  {
   "cell_type": "code",
   "execution_count": 14,
   "id": "b7c45b32-8a1e-4e15-a328-d2da3f718461",
   "metadata": {},
   "outputs": [],
   "source": [
    "from collections import Counter\n",
    "from sklearn.datasets import make_classification\n",
    "from imblearn.under_sampling import EditedNearestNeighbours\n",
    "#ENN reduces the majority class by keeping only well separated instances\n",
    "enn = EditedNearestNeighbours(sampling_strategy = \"majority\", n_neighbors = 3)\n",
    "#train_data_X, train_data_y = enn.fit_resample(train_data_X, train_labels_encoded)"
   ]
  },
  {
   "cell_type": "code",
   "execution_count": 15,
   "id": "8af5f4e3-48a5-4a60-b951-1cb02855acdf",
   "metadata": {},
   "outputs": [],
   "source": [
    "#train_data_y.value_counts()"
   ]
  },
  {
   "cell_type": "code",
   "execution_count": 16,
   "id": "102d84fa-c8e2-425c-84f8-25b8a6272498",
   "metadata": {},
   "outputs": [],
   "source": [
    "from imblearn.over_sampling import ADASYN\n",
    "\n",
    "adasyn = ADASYN(sampling_strategy = \"all\", random_state=42, n_neighbors= 5)\n",
    "train_data_X,train_data_y = adasyn.fit_resample(train_data_X, train_data_y)"
   ]
  },
  {
   "cell_type": "code",
   "execution_count": 17,
   "id": "0da2d9fc-1ea8-4570-8c1c-073cd9455e48",
   "metadata": {},
   "outputs": [],
   "source": [
    "from imblearn.combine import SMOTEENN\n",
    "\n",
    "# Combine SMOTE (oversampling) and ENN (cleaning majority class)\n",
    "#smote_enn = SMOTEENN(sampling_strategy=\"not majority\", enn = enn, random_state=42,n_neighbors = 5)\n",
    "\n",
    "# Apply SMOTEENN\n",
    "#train_data_X, train_data_y = smote_enn.fit_resample(train_data_X, train_data_y)\n",
    "\n",
    "# Check the class distribution after resampling\n",
    "from collections import Counter\n",
    "#print(f\"Class distribution after resampling: {Counter(train_data_y)}\")"
   ]
  },
  {
   "cell_type": "code",
   "execution_count": null,
   "id": "6fc4374a-08e4-4ef5-ae4d-28e91f23e8d2",
   "metadata": {},
   "outputs": [],
   "source": []
  },
  {
   "cell_type": "code",
   "execution_count": 18,
   "id": "46c173ce-09da-44d1-9c68-8d351f7e5ce3",
   "metadata": {},
   "outputs": [
    {
     "data": {
      "text/plain": [
       "attack_cat\n",
       "3    56879\n",
       "7    56652\n",
       "5    56352\n",
       "8    56271\n",
       "0    56060\n",
       "6    56000\n",
       "9    55988\n",
       "1    55737\n",
       "4    54493\n",
       "2    53508\n",
       "Name: count, dtype: int64"
      ]
     },
     "execution_count": 18,
     "metadata": {},
     "output_type": "execute_result"
    }
   ],
   "source": [
    "train_data_y.value_counts()"
   ]
  },
  {
   "cell_type": "markdown",
   "id": "d9a52f54-b0d2-4d50-aad1-43bcbf2637fb",
   "metadata": {},
   "source": [
    "# Feature Selection"
   ]
  },
  {
   "cell_type": "code",
   "execution_count": 19,
   "id": "486b73a0-a8b5-459b-acca-6894afffdd9d",
   "metadata": {},
   "outputs": [
    {
     "data": {
      "image/png": "[encoded data removed]",
      "text/plain": [
       "<Figure size 800x1000 with 1 Axes>"
      ]
     },
     "metadata": {},
     "output_type": "display_data"
    }
   ],
   "source": [
    "from sklearn.ensemble import RandomForestClassifier\n",
    "\n",
    "rf_classifier = RandomForestClassifier(random_state=15)\n",
    "numeric_cols = train_data_X.select_dtypes(include = \"number\")\n",
    "rf_classifier.fit(numeric_cols, train_data_y.values.ravel())\n",
    "\n",
    "feature_importances = pd.Series(rf_classifier.feature_importances_, index=numeric_cols.columns)\n",
    "\n",
    "def plot_importance(coef, name):\n",
    "    imp_coef = coef.sort_values()\n",
    "    plt.figure(figsize=(8,10))\n",
    "    imp_coef.plot(kind=\"barh\")\n",
    "    plt.title(\"Feature importance using \" + name + \" Model\")\n",
    "    plt.show()\n",
    "\n",
    "plot_importance(feature_importances, 'Random Forest')"
   ]
  },
  {
   "cell_type": "code",
   "execution_count": 20,
   "id": "39e9a23a-0d26-4f7f-bdc9-a59255c48132",
   "metadata": {},
   "outputs": [
    {
     "data": {
      "text/plain": [
       "encoder__proto_arp              0.000857\n",
       "encoder__proto_ospf             0.001204\n",
       "encoder__proto_sctp             0.001402\n",
       "encoder__proto_tcp              0.003386\n",
       "encoder__proto_udp              0.017407\n",
       "encoder__proto_unas             0.003293\n",
       "encoder__service_dns            0.021340\n",
       "encoder__service_ftp            0.000466\n",
       "encoder__service_ftp-data       0.000467\n",
       "encoder__service_http           0.023123\n",
       "encoder__service_smtp           0.000667\n",
       "encoder__state_CON              0.000818\n",
       "encoder__state_ECO              0.000006\n",
       "encoder__state_FIN              0.000983\n",
       "encoder__state_INT              0.001482\n",
       "encoder__state_REQ              0.000342\n",
       "encoder__state_RST              0.000016\n",
       "remainder__dur                  0.028781\n",
       "remainder__spkts                0.014862\n",
       "remainder__dpkts                0.015239\n",
       "remainder__sbytes               0.083021\n",
       "remainder__dbytes               0.025631\n",
       "remainder__rate                 0.036964\n",
       "remainder__sttl                 0.050555\n",
       "remainder__dttl                 0.007767\n",
       "remainder__sload                0.044872\n",
       "remainder__dload                0.020658\n",
       "remainder__sloss                0.013775\n",
       "remainder__dloss                0.015964\n",
       "remainder__sinpkt               0.019278\n",
       "remainder__dinpkt               0.011033\n",
       "remainder__sjit                 0.014090\n",
       "remainder__djit                 0.010456\n",
       "remainder__swin                 0.001379\n",
       "remainder__stcpb                0.009289\n",
       "remainder__dtcpb                0.008721\n",
       "remainder__dwin                 0.000519\n",
       "remainder__tcprtt               0.011327\n",
       "remainder__synack               0.014973\n",
       "remainder__ackdat               0.011081\n",
       "remainder__smean                0.069912\n",
       "remainder__dmean                0.023432\n",
       "remainder__trans_depth          0.014632\n",
       "remainder__response_body_len    0.008254\n",
       "remainder__ct_srv_src           0.047916\n",
       "remainder__ct_state_ttl         0.022874\n",
       "remainder__ct_dst_ltm           0.026441\n",
       "remainder__ct_src_dport_ltm     0.025256\n",
       "remainder__ct_dst_sport_ltm     0.023297\n",
       "remainder__ct_dst_src_ltm       0.063645\n",
       "remainder__is_ftp_login         0.000167\n",
       "remainder__ct_ftp_cmd           0.000138\n",
       "remainder__ct_flw_http_mthd     0.013012\n",
       "remainder__ct_src_ltm           0.047613\n",
       "remainder__ct_srv_dst           0.064830\n",
       "remainder__is_sm_ips_ports      0.001087\n",
       "dtype: float64"
      ]
     },
     "execution_count": 20,
     "metadata": {},
     "output_type": "execute_result"
    }
   ],
   "source": [
    "feature_importances"
   ]
  },
  {
   "cell_type": "code",
   "execution_count": 21,
   "id": "4f599f8b-d01b-4450-9d58-f774daf505af",
   "metadata": {},
   "outputs": [],
   "source": [
    "top_40_features = [\n",
    "    \"sttl\",\n",
    "    \"PC1\",\n",
    "    \"dttl\",\n",
    "    \"ct_dst_src_ltm\",\n",
    "    \"ct_dst_ltm\",\n",
    "    \"ct_dst_sport_ltm\",\n",
    "    \"ct_state_ttl\",\n",
    "    \"ct_src_dport_ltm\",\n",
    "    \"ct_src_ltm\",\n",
    "    \"ct_srv_dst\",\n",
    "    \"ct_srv_src\",\n",
    "    \"ackdat\",\n",
    "    \"tcprtt\",\n",
    "    \"sbytes\",\n",
    "    \"smean\",\n",
    "    \"dload\",\n",
    "    \"rate\",\n",
    "    \"dmean\",\n",
    "    \"dur\",\n",
    "    \"PC3\",\n",
    "    \"PC10\",\n",
    "    \"dbytes\",\n",
    "    \"synack\",\n",
    "    \"PC2\",\n",
    "    \"ct_flw_http_mthd\",\n",
    "    \"trans_depth\",\n",
    "    \"PC4\",\n",
    "    \"sload\",\n",
    "    \"PC5\",\n",
    "    \"sinpkt\",\n",
    "    \"PC8\",\n",
    "    \"spkts\",\n",
    "    \"dpkts\",\n",
    "    \"PC9\",\n",
    "    \"sloss\",\n",
    "    \"sjit\",\n",
    "    \"PC7\",\n",
    "    \"dloss\",\n",
    "    \"dwin\",\n",
    "    \"swin\"\n",
    "]"
   ]
  },
  {
   "cell_type": "code",
   "execution_count": 22,
   "id": "72805ac9-20ef-4b74-be70-1e6bdf82cba4",
   "metadata": {},
   "outputs": [],
   "source": [
    "from sklearn.feature_selection import f_classif #computes ANOVA \n",
    "from sklearn.feature_selection import SelectKBest  #Orders f statistics and selects the Kbest ones\n",
    "\n",
    "def anova_test():\n",
    "\n",
    "    \n",
    "    X_vars = train_data_X[train_data_X.select_dtypes(include='number').columns]\n",
    "    \n",
    "    y_var = train_data_y\n",
    "    \n",
    "    anova = SelectKBest(f_classif, k=40) #we choose to keep the 10 best ones, try different numbers\n",
    "    \n",
    "    \n",
    "    X_anova = anova.fit_transform(X_vars, y_var)\n",
    "    \n",
    "    anova_results = pd.DataFrame({'Feature': X_vars.columns, \n",
    "                                  'F-value': anova.scores_,\n",
    "                                  'p-value': anova.pvalues_})\n",
    "    \n",
    "    anova_results.sort_values(by='F-value', ascending=False, inplace=True)\n",
    "\n",
    "    \n",
    "    selected_features = pd.Series(anova.get_support(), index = X_vars.columns)\n",
    "    features_to_use = [feature for feature, keep in selected_features.items() if keep]\n",
    "\n",
    "    features_to_use_str = '\", \"'.join(features_to_use)\n",
    "    \n",
    "    return selected_features, anova_results, features_to_use_str,features_to_use"
   ]
  },
  {
   "cell_type": "code",
   "execution_count": 23,
   "id": "274cf472-2ba7-457e-9b57-19cbec027843",
   "metadata": {},
   "outputs": [],
   "source": [
    "selected_features, anova_results, features_to_use_str,features_to_use = anova_test()"
   ]
  },
  {
   "cell_type": "code",
   "execution_count": 24,
   "id": "03d62f5e-a44a-4930-9c89-85e4d3f84270",
   "metadata": {},
   "outputs": [],
   "source": [
    "features = features_to_use"
   ]
  },
  {
   "cell_type": "markdown",
   "id": "a4fec4c1-e780-4ade-b035-e8e6469310af",
   "metadata": {},
   "source": [
    "# Modelling"
   ]
  },
  {
   "cell_type": "markdown",
   "id": "e035c2ae-2be5-4249-bb01-77bc7d29585d",
   "metadata": {},
   "source": [
    "## Modelling EfficentKan"
   ]
  },
  {
   "cell_type": "code",
   "execution_count": 25,
   "id": "58ccf7cd-d4f0-49f5-9b06-ed0b2d444d85",
   "metadata": {},
   "outputs": [],
   "source": [
    "#train_X_tensor = torch.tensor(train_data_X[features].values, dtype=torch.float32).squeeze()\n",
    "#test_X_tensor = torch.tensor(test_data_X[features].values, dtype=torch.float32).squeeze() #changed to have all features\n",
    "\n",
    "train_X_tensor = torch.tensor(train_data_X[features_to_use].values, dtype=torch.float32).squeeze()\n",
    "test_X_tensor = torch.tensor(test_data_X[features_to_use].values, dtype=torch.float32).squeeze()\n",
    "\n",
    "train_Y_tensor = torch.tensor(train_data_y.values, dtype=torch.long).squeeze()\n",
    "\n",
    "test_Y_tensor = torch.tensor(test_data_y.values, dtype=torch.long).squeeze()\n",
    "#a dictionary with the 4 datasets"
   ]
  },
  {
   "cell_type": "code",
   "execution_count": 26,
   "id": "1357325e-6c3f-4696-ac8c-9c4ab4c8a290",
   "metadata": {},
   "outputs": [],
   "source": [
    "from torch import nn\n",
    "from torch.utils.data import TensorDataset\n",
    "from torch.utils.data import DataLoader"
   ]
  },
  {
   "cell_type": "code",
   "execution_count": 27,
   "id": "5b9c01a6-69d2-466f-88eb-3bfa57eee8ea",
   "metadata": {},
   "outputs": [],
   "source": [
    "\n",
    "# Create TensorDatasets\n",
    "train_dataset = TensorDataset(train_X_tensor, train_Y_tensor)\n",
    "test_dataset = TensorDataset(test_X_tensor, test_Y_tensor)\n"
   ]
  },
  {
   "cell_type": "code",
   "execution_count": 28,
   "id": "e638f1d3-b977-41bb-b150-6698ce803af9",
   "metadata": {},
   "outputs": [],
   "source": [
    "train_dataloader = DataLoader(train_dataset, batch_size=16, shuffle=True)\n",
    "test_dataloader = DataLoader(test_dataset, batch_size=16, shuffle=False)"
   ]
  },
  {
   "cell_type": "markdown",
   "id": "2519ea5f-6950-458e-aaae-c3d4aae9ecf0",
   "metadata": {},
   "source": [
    "## Modelling with efficient Kan"
   ]
  },
  {
   "cell_type": "code",
   "execution_count": 29,
   "id": "6e2a8d00-9e61-4d23-b6d7-c0b81cf1312d",
   "metadata": {},
   "outputs": [],
   "source": [
    "#\n"
   ]
  },
  {
   "cell_type": "code",
   "execution_count": 30,
   "id": "4c90c1ca-27d1-4494-9b5b-d6ec3020f743",
   "metadata": {},
   "outputs": [],
   "source": [
    "from efficient_kan import KAN"
   ]
  },
  {
   "cell_type": "code",
   "execution_count": 31,
   "id": "3c4eaf5f-fbfd-4db6-b316-e5b93ee0a55d",
   "metadata": {},
   "outputs": [],
   "source": [
    "import torch\n",
    "import torch.nn as nn\n",
    "import torch.optim as optim\n",
    "import torchvision\n",
    "from torch.utils.data import DataLoader\n",
    "from tqdm import tqdm\n",
    "\n",
    "# Define model\n",
    "model = KAN([40, 64, 10])\n",
    "device = torch.device(\"cuda\" if torch.cuda.is_available() else \"cpu\")\n",
    "model.to(device)\n",
    "\n",
    "# Define optimizer\n",
    "optimizer = optim.AdamW(model.parameters(), lr=1e-3, weight_decay=1e-4)\n",
    "# Define learning rate scheduler\n",
    "scheduler = optim.lr_scheduler.ExponentialLR(optimizer, gamma=0.8)\n",
    "\n",
    "# Define loss\n",
    "criterion = nn.CrossEntropyLoss()"
   ]
  },
  {
   "cell_type": "code",
   "execution_count": 32,
   "id": "c8606303-5979-499a-9480-020063f0530e",
   "metadata": {},
   "outputs": [
    {
     "data": {
      "text/plain": [
       "(5, 3)"
      ]
     },
     "execution_count": 32,
     "metadata": {},
     "output_type": "execute_result"
    }
   ],
   "source": [
    "model.grid_size, model.spline_order"
   ]
  },
  {
   "cell_type": "code",
   "execution_count": 33,
   "id": "00e210a4-fe86-4b81-813b-4ddfc926ecbe",
   "metadata": {},
   "outputs": [],
   "source": [
    "from sklearn.model_selection import KFold"
   ]
  },
  {
   "cell_type": "code",
   "execution_count": 34,
   "id": "370ae572-eb21-41d2-b309-d7526d5413cd",
   "metadata": {},
   "outputs": [],
   "source": [
    "model = KAN([40, 20,10, 5,10],grid_size = 4, spline_order = 2, scale_noise=0.2, scale_base=0.2, scale_spline=0.2)"
   ]
  },
  {
   "cell_type": "code",
   "execution_count": 35,
   "id": "6d53a788-40a9-46d1-b42e-dc9948a173d9",
   "metadata": {},
   "outputs": [],
   "source": [
    "from sklearn.metrics import f1_score\n",
    "loss_over_train = []\n",
    "loss_over_test = []\n",
    "def train_loop(dataloader, model, loss_fn, optimizer):\n",
    "    size = len(dataloader.dataset)\n",
    "    correct = 0  # For accuracy tracking\n",
    "    total = 0\n",
    "    epoch_loss = 0\n",
    "    \n",
    "    model.train()\n",
    "    for batch, (X, y) in enumerate(dataloader):\n",
    "        # Compute prediction and loss\n",
    "        pred = model(X)\n",
    "        loss = loss_fn(pred, y)\n",
    "\n",
    "        # Backpropagation\n",
    "        loss.backward()\n",
    "        optimizer.step()\n",
    "        optimizer.zero_grad()\n",
    "\n",
    "        epoch_loss += loss.item()\n",
    "\n",
    "        if batch % 100 == 0:\n",
    "            loss, current = loss.item(), batch * len(X)\n",
    "            print(f\"loss: {loss:>7f}  [{current:>5d}/{size:>5d}]\")\n",
    "\n",
    "\n",
    "        \n",
    "        # Calculate accuracy\n",
    "        _, predicted = torch.max(pred, 1)\n",
    "        correct += (predicted == y).sum().item()\n",
    "        total += y.size(0)\n",
    "        \n",
    "    mean_loss = epoch_loss / len(dataloader) \n",
    "    loss_over_train.append(mean_loss)\n",
    "\n",
    "    accuracy = correct / total * 100\n",
    "    print(f\"Train Accuracy: {accuracy:.4f}%\")\n",
    "\n",
    "def test_loop(dataloader, model, loss_fn):\n",
    "    model.eval()  # Set the model to evaluation mode\n",
    "    size = len(dataloader.dataset)\n",
    "    num_batches = len(dataloader)\n",
    "    test_loss, correct = 0, 0\n",
    "    all_preds = []\n",
    "    all_labels = []\n",
    "\n",
    "    with torch.no_grad():\n",
    "        for X, y in dataloader:\n",
    "            pred = model(X)\n",
    "            test_loss += loss_fn(pred, y).item()\n",
    "            correct += (pred.argmax(1) == y).type(torch.float).sum().item()\n",
    "            \n",
    "            # Collect all predictions and true labels for F1-score calculation\n",
    "            all_preds.extend(pred.argmax(1).cpu().numpy())\n",
    "            all_labels.extend(y.cpu().numpy())\n",
    "\n",
    "    mean_loss = test_loss / num_batches  # Divide by the number of batches\n",
    "    loss_over_test.append(mean_loss)\n",
    "\n",
    "    test_loss /= num_batches\n",
    "    correct /= size\n",
    "    f1 = f1_score(all_labels, all_preds, average='weighted') * 100  # Weighted F1-score to handle class imbalance\n",
    "    f1_macro = f1_score(all_labels, all_preds, average='macro') * 100  # Macro F1-score to handle class imbalance\n",
    "\n",
    "    print(f\"Test Error: \\n Accuracy: {(100*correct):>0.1f}%, Avg loss: {test_loss:>8f}, F1-score: {f1:.2f}%, Macro_F1-Score: {f1_macro: .2f}%  \\n\")\n"
   ]
  },
  {
   "cell_type": "code",
   "execution_count": null,
   "id": "8b92990a-790c-4d0d-b1fe-550199e0b99a",
   "metadata": {
    "scrolled": true
   },
   "outputs": [
    {
     "name": "stdout",
     "output_type": "stream",
     "text": [
      "Epoch 1\n",
      "-------------------------------\n",
      "loss: 2.302533  [    0/557940]\n",
      "loss: 2.255292  [ 1600/557940]\n",
      "loss: 2.201759  [ 3200/557940]\n",
      "loss: 2.186745  [ 4800/557940]\n",
      "loss: 2.072685  [ 6400/557940]\n",
      "loss: 2.265673  [ 8000/557940]\n",
      "loss: 2.234157  [ 9600/557940]\n",
      "loss: 2.055952  [11200/557940]\n",
      "loss: 2.028556  [12800/557940]\n",
      "loss: 2.189684  [14400/557940]\n",
      "loss: 2.247838  [16000/557940]\n",
      "loss: 2.114001  [17600/557940]\n",
      "loss: 2.067073  [19200/557940]\n",
      "loss: 1.761908  [20800/557940]\n",
      "loss: 1.970759  [22400/557940]\n",
      "loss: 2.030371  [24000/557940]\n",
      "loss: 2.009305  [25600/557940]\n",
      "loss: 2.210020  [27200/557940]\n",
      "loss: 2.319970  [28800/557940]\n",
      "loss: 1.706316  [30400/557940]\n",
      "loss: 2.352556  [32000/557940]\n",
      "loss: 1.815818  [33600/557940]\n",
      "loss: 1.906451  [35200/557940]\n",
      "loss: 1.845050  [36800/557940]\n",
      "loss: 1.665691  [38400/557940]\n",
      "loss: 1.637417  [40000/557940]\n",
      "loss: 1.934860  [41600/557940]\n",
      "loss: 1.870092  [43200/557940]\n",
      "loss: 1.794522  [44800/557940]\n",
      "loss: 1.778331  [46400/557940]\n",
      "loss: 1.669127  [48000/557940]\n",
      "loss: 1.770394  [49600/557940]\n",
      "loss: 1.879847  [51200/557940]\n",
      "loss: 1.960740  [52800/557940]\n",
      "loss: 1.655709  [54400/557940]\n",
      "loss: 1.425943  [56000/557940]\n",
      "loss: 1.606933  [57600/557940]\n",
      "loss: 1.688516  [59200/557940]\n",
      "loss: 1.596619  [60800/557940]\n",
      "loss: 1.571547  [62400/557940]\n",
      "loss: 1.428301  [64000/557940]\n",
      "loss: 1.607494  [65600/557940]\n",
      "loss: 1.516716  [67200/557940]\n",
      "loss: 1.503136  [68800/557940]\n",
      "loss: 1.781186  [70400/557940]\n",
      "loss: 1.561722  [72000/557940]\n",
      "loss: 2.053613  [73600/557940]\n",
      "loss: 1.474038  [75200/557940]\n",
      "loss: 1.439972  [76800/557940]\n",
      "loss: 1.824051  [78400/557940]\n",
      "loss: 1.563797  [80000/557940]\n",
      "loss: 1.591747  [81600/557940]\n",
      "loss: 1.476087  [83200/557940]\n",
      "loss: 1.478038  [84800/557940]\n",
      "loss: 1.408842  [86400/557940]\n",
      "loss: 1.499295  [88000/557940]\n",
      "loss: 1.598407  [89600/557940]\n",
      "loss: 1.584750  [91200/557940]\n",
      "loss: 1.538658  [92800/557940]\n",
      "loss: 1.703708  [94400/557940]\n",
      "loss: 1.476532  [96000/557940]\n",
      "loss: 1.575420  [97600/557940]\n",
      "loss: 1.567497  [99200/557940]\n",
      "loss: 1.438774  [100800/557940]\n",
      "loss: 1.251885  [102400/557940]\n",
      "loss: 1.377751  [104000/557940]\n",
      "loss: 1.513773  [105600/557940]\n",
      "loss: 1.385826  [107200/557940]\n",
      "loss: 1.535377  [108800/557940]\n",
      "loss: 1.923662  [110400/557940]\n",
      "loss: 1.271562  [112000/557940]\n",
      "loss: 1.296831  [113600/557940]\n",
      "loss: 1.382361  [115200/557940]\n",
      "loss: 1.535520  [116800/557940]\n",
      "loss: 1.166647  [118400/557940]\n",
      "loss: 1.551415  [120000/557940]\n",
      "loss: 1.586217  [121600/557940]\n",
      "loss: 1.544552  [123200/557940]\n",
      "loss: 1.314799  [124800/557940]\n",
      "loss: 1.935653  [126400/557940]\n",
      "loss: 1.761966  [128000/557940]\n",
      "loss: 1.287420  [129600/557940]\n",
      "loss: 1.595454  [131200/557940]\n",
      "loss: 1.244490  [132800/557940]\n",
      "loss: 1.266922  [134400/557940]\n",
      "loss: 1.497018  [136000/557940]\n",
      "loss: 1.293066  [137600/557940]\n",
      "loss: 1.782678  [139200/557940]\n",
      "loss: 1.814237  [140800/557940]\n",
      "loss: 1.306957  [142400/557940]\n",
      "loss: 1.445847  [144000/557940]\n",
      "loss: 1.553297  [145600/557940]\n",
      "loss: 1.198132  [147200/557940]\n",
      "loss: 1.332595  [148800/557940]\n",
      "loss: 1.567208  [150400/557940]\n",
      "loss: 1.280907  [152000/557940]\n",
      "loss: 1.332936  [153600/557940]\n",
      "loss: 1.344375  [155200/557940]\n",
      "loss: 1.452860  [156800/557940]\n",
      "loss: 1.643234  [158400/557940]\n",
      "loss: 1.340938  [160000/557940]\n",
      "loss: 1.348561  [161600/557940]\n",
      "loss: 1.907248  [163200/557940]\n",
      "loss: 1.690617  [164800/557940]\n",
      "loss: 1.316576  [166400/557940]\n",
      "loss: 1.382933  [168000/557940]\n",
      "loss: 1.105164  [169600/557940]\n",
      "loss: 1.037172  [171200/557940]\n",
      "loss: 1.655286  [172800/557940]\n",
      "loss: 1.433411  [174400/557940]\n",
      "loss: 1.298042  [176000/557940]\n",
      "loss: 1.470702  [177600/557940]\n",
      "loss: 1.313659  [179200/557940]\n",
      "loss: 1.674516  [180800/557940]\n",
      "loss: 1.287931  [182400/557940]\n",
      "loss: 1.750078  [184000/557940]\n",
      "loss: 1.396714  [185600/557940]\n",
      "loss: 1.537006  [187200/557940]\n",
      "loss: 1.553293  [188800/557940]\n",
      "loss: 1.404943  [190400/557940]\n",
      "loss: 1.326452  [192000/557940]\n",
      "loss: 1.333563  [193600/557940]\n",
      "loss: 1.224786  [195200/557940]\n",
      "loss: 1.462565  [196800/557940]\n",
      "loss: 1.480401  [198400/557940]\n",
      "loss: 0.958564  [200000/557940]\n",
      "loss: 1.435064  [201600/557940]\n",
      "loss: 1.313706  [203200/557940]\n",
      "loss: 1.266521  [204800/557940]\n",
      "loss: 1.624506  [206400/557940]\n",
      "loss: 1.525495  [208000/557940]\n",
      "loss: 1.206918  [209600/557940]\n",
      "loss: 1.796108  [211200/557940]\n",
      "loss: 1.589129  [212800/557940]\n",
      "loss: 1.283799  [214400/557940]\n",
      "loss: 1.646029  [216000/557940]\n",
      "loss: 1.423699  [217600/557940]\n",
      "loss: 1.248788  [219200/557940]\n",
      "loss: 1.133108  [220800/557940]\n",
      "loss: 1.195038  [222400/557940]\n",
      "loss: 1.019618  [224000/557940]\n",
      "loss: 1.505962  [225600/557940]\n",
      "loss: 1.314417  [227200/557940]\n",
      "loss: 1.078427  [228800/557940]\n",
      "loss: 1.367099  [230400/557940]\n",
      "loss: 1.160964  [232000/557940]\n",
      "loss: 1.257323  [233600/557940]\n",
      "loss: 1.379339  [235200/557940]\n",
      "loss: 0.868518  [236800/557940]\n",
      "loss: 1.642255  [238400/557940]\n",
      "loss: 1.504512  [240000/557940]\n",
      "loss: 0.910106  [241600/557940]\n",
      "loss: 1.894031  [243200/557940]\n",
      "loss: 1.245687  [244800/557940]\n",
      "loss: 1.066938  [246400/557940]\n",
      "loss: 1.579053  [248000/557940]\n",
      "loss: 1.461982  [249600/557940]\n",
      "loss: 1.202145  [251200/557940]\n",
      "loss: 1.281982  [252800/557940]\n",
      "loss: 1.403723  [254400/557940]\n",
      "loss: 1.155754  [256000/557940]\n",
      "loss: 1.141048  [257600/557940]\n",
      "loss: 1.481550  [259200/557940]\n",
      "loss: 1.104480  [260800/557940]\n",
      "loss: 1.281154  [262400/557940]\n",
      "loss: 1.132765  [264000/557940]\n",
      "loss: 0.939032  [265600/557940]\n",
      "loss: 0.748946  [267200/557940]\n",
      "loss: 1.524435  [268800/557940]\n",
      "loss: 1.050297  [270400/557940]\n",
      "loss: 0.988416  [272000/557940]\n",
      "loss: 0.767973  [273600/557940]\n",
      "loss: 1.220875  [275200/557940]\n",
      "loss: 1.558126  [276800/557940]\n",
      "loss: 1.057748  [278400/557940]\n",
      "loss: 1.110256  [280000/557940]\n",
      "loss: 0.901990  [281600/557940]\n",
      "loss: 1.027661  [283200/557940]\n",
      "loss: 1.199267  [284800/557940]\n",
      "loss: 1.758145  [286400/557940]\n",
      "loss: 1.368638  [288000/557940]\n",
      "loss: 1.381904  [289600/557940]\n",
      "loss: 1.722779  [291200/557940]\n",
      "loss: 1.582367  [292800/557940]\n",
      "loss: 1.336843  [294400/557940]\n",
      "loss: 1.714773  [296000/557940]\n",
      "loss: 1.274755  [297600/557940]\n",
      "loss: 1.295655  [299200/557940]\n",
      "loss: 1.117988  [300800/557940]\n",
      "loss: 0.836782  [302400/557940]\n",
      "loss: 0.845374  [304000/557940]\n",
      "loss: 1.375966  [305600/557940]\n",
      "loss: 1.234370  [307200/557940]\n",
      "loss: 1.361140  [308800/557940]\n",
      "loss: 1.682953  [310400/557940]\n",
      "loss: 1.176329  [312000/557940]\n",
      "loss: 1.294629  [313600/557940]\n",
      "loss: 0.925526  [315200/557940]\n",
      "loss: 1.862928  [316800/557940]\n",
      "loss: 1.633067  [318400/557940]\n",
      "loss: 1.576647  [320000/557940]\n",
      "loss: 1.295991  [321600/557940]\n",
      "loss: 1.236747  [323200/557940]\n",
      "loss: 1.233925  [324800/557940]\n",
      "loss: 1.301406  [326400/557940]\n",
      "loss: 1.431220  [328000/557940]\n",
      "loss: 1.569630  [329600/557940]\n",
      "loss: 0.981049  [331200/557940]\n",
      "loss: 1.126089  [332800/557940]\n",
      "loss: 1.110667  [334400/557940]\n",
      "loss: 0.955811  [336000/557940]\n",
      "loss: 1.139328  [337600/557940]\n",
      "loss: 1.268753  [339200/557940]\n",
      "loss: 1.481911  [340800/557940]\n",
      "loss: 1.414679  [342400/557940]\n",
      "loss: 1.370883  [344000/557940]\n",
      "loss: 1.531940  [345600/557940]\n",
      "loss: 1.607291  [347200/557940]\n",
      "loss: 1.333417  [348800/557940]\n",
      "loss: 1.325963  [350400/557940]\n",
      "loss: 1.706197  [352000/557940]\n",
      "loss: 1.127614  [353600/557940]\n",
      "loss: 0.989652  [355200/557940]\n",
      "loss: 1.195732  [356800/557940]\n",
      "loss: 1.512647  [358400/557940]\n",
      "loss: 1.713476  [360000/557940]\n",
      "loss: 1.001268  [361600/557940]\n",
      "loss: 0.930288  [363200/557940]\n",
      "loss: 1.493512  [364800/557940]\n",
      "loss: 1.547380  [366400/557940]\n",
      "loss: 1.436730  [368000/557940]\n",
      "loss: 1.099449  [369600/557940]\n",
      "loss: 1.453929  [371200/557940]\n",
      "loss: 1.187910  [372800/557940]\n",
      "loss: 1.138764  [374400/557940]\n",
      "loss: 1.449596  [376000/557940]\n",
      "loss: 1.039431  [377600/557940]\n",
      "loss: 1.015198  [379200/557940]\n",
      "loss: 1.028057  [380800/557940]\n",
      "loss: 0.905146  [382400/557940]\n"
     ]
    }
   ],
   "source": [
    "loss_fn = nn.CrossEntropyLoss()\n",
    "#loss_fn = FocalLoss(alpha=0.5, gamma = 1)\n",
    "optimizer = torch.optim.Adam(model.parameters(), lr=0.0001,weight_decay=1e-4) #using L2 regularization\n",
    "\n",
    "epochs = 200\n",
    "for t in range(epochs):\n",
    "    print(f\"Epoch {t+1}\\n-------------------------------\")\n",
    "    train_loop(train_dataloader, model, loss_fn, optimizer)\n",
    "    test_loop(test_dataloader, model, loss_fn)\n",
    "print(\"Done!\") #wider network"
   ]
  },
  {
   "cell_type": "code",
   "execution_count": null,
   "id": "9c2362c3-f2fe-4d79-ab22-038e027752ac",
   "metadata": {},
   "outputs": [],
   "source": [
    "model = KAN([40, 20,10, 5,10],grid_size = 6, spline_order = 3, scale_noise=0.2, scale_base=0.2, scale_spline=0.2)\n",
    "loss_over_train = []\n",
    "loss_over_test = []"
   ]
  },
  {
   "cell_type": "code",
   "execution_count": null,
   "id": "fdafbf2b-d151-40e6-b9d2-35b65c2b9781",
   "metadata": {
    "scrolled": true
   },
   "outputs": [],
   "source": [
    "loss_fn = nn.CrossEntropyLoss()\n",
    "#loss_fn = FocalLoss(alpha=0.5, gamma = 1)\n",
    "\n",
    "optimizer = torch.optim.Adam(model.parameters(), lr=0.0001,weight_decay=1e-4)\n",
    "\n",
    "epochs = 200\n",
    "for t in range(epochs):\n",
    "    print(f\"Epoch {t+1}\\n-------------------------------\")\n",
    "    train_loop(train_dataloader, model, loss_fn, optimizer)\n",
    "    test_loop(test_dataloader, model, loss_fn)\n",
    "print(\"Done!\")"
   ]
  },
  {
   "cell_type": "code",
   "execution_count": null,
   "id": "4b427034-602d-4252-af52-9c7d0908f074",
   "metadata": {
    "scrolled": true
   },
   "outputs": [],
   "source": [
    "loss_fn = nn.CrossEntropyLoss()\n",
    "optimizer = torch.optim.Adam(model.parameters(), lr=0.0001,weight_decay=1e-4)\n",
    "\n",
    "epochs = 200\n",
    "for t in range(epochs):\n",
    "    print(f\"Epoch {t+1}\\n-------------------------------\")\n",
    "    train_loop(train_dataloader, model, loss_fn, optimizer)\n",
    "    test_loop(test_dataloader, model, loss_fn)\n",
    "print(\"Done!\")"
   ]
  },
  {
   "cell_type": "code",
   "execution_count": null,
   "id": "3115f1b7-87f8-41a5-8992-af1752600f88",
   "metadata": {
    "scrolled": true
   },
   "outputs": [],
   "source": [
    "loss_fn = nn.CrossEntropyLoss()\n",
    "optimizer = torch.optim.Adam(model.parameters(), lr=0.0001,weight_decay=1e-4)\n",
    "\n",
    "epochs = 20\n",
    "for t in range(epochs):\n",
    "    print(f\"Epoch {t+1}\\n-------------------------------\")\n",
    "    train_loop(train_dataloader, model, loss_fn, optimizer)\n",
    "    test_loop(test_dataloader, model, loss_fn)\n",
    "print(\"Done!\")"
   ]
  },
  {
   "cell_type": "code",
   "execution_count": null,
   "id": "c6add252-99f2-4d32-bb41-6e558870ac52",
   "metadata": {},
   "outputs": [],
   "source": [
    "#since the traind and test loops keep appending to the loss over train/test lists\n",
    "plt.plot(x_axis[:len(loss_over_train)], loss_over_train, label=\"Training Loss\")\n",
    "plt.plot(x_axis[:len(loss_over_test)], loss_over_test, label=\"Testing Loss\")\n",
    "plt.xlabel(\"Epoch\")\n",
    "plt.ylabel(\"Loss\")\n",
    "plt.title(\"Training and Testing Loss over Epochs\")\n",
    "plt.legend()\n",
    "plt.show()"
   ]
  },
  {
   "cell_type": "markdown",
   "id": "9c46642c-d070-4eed-bfb4-3c5a7d21e93c",
   "metadata": {},
   "source": [
    "# Confusion Matrix"
   ]
  },
  {
   "cell_type": "code",
   "execution_count": null,
   "id": "605965a8-0cd9-434c-aee0-478a4531365f",
   "metadata": {},
   "outputs": [],
   "source": [
    "import pickle\n",
    "import pandas as pd\n",
    "\n",
    "# Load the LabelEncoder object from the file\n",
    "with open(r\"C:\\Users\\ADMIN\\Desktop\\Thesis Space Desktop\\Data After Preprocess\\label_encoder.pkl\", \"rb\") as f:\n",
    "    label_encoder = pickle.load(f)\n",
    "\n",
    "\n",
    "# Now you can use the label_encoder object in the second notebook\n",
    "original_class_labels = label_encoder.classes_"
   ]
  },
  {
   "cell_type": "code",
   "execution_count": null,
   "id": "f37c1d9c-dcf8-497e-931d-9ad812150687",
   "metadata": {},
   "outputs": [],
   "source": [
    "original_labels_test = label_encoder.inverse_transform(test_data_y.values.flatten())"
   ]
  },
  {
   "cell_type": "code",
   "execution_count": null,
   "id": "c1517902-9ea6-4c23-8654-e295a0f3c84d",
   "metadata": {},
   "outputs": [],
   "source": [
    "import torch\n",
    "import matplotlib.pyplot as plt\n",
    "from sklearn.metrics import confusion_matrix, ConfusionMatrixDisplay\n",
    "\n",
    "# Ensure the model is in evaluation mode\n",
    "model.eval()\n",
    "\n",
    "with torch.no_grad():\n",
    "    y_pred = model(test_X_tensor)  # Forward pass\n",
    "    y_pred = torch.argmax(y_pred, dim=1)  # Get class predictions\n",
    "\n",
    "# Convert tensors to NumPy arrays for sklearn\n",
    "y_pred = y_pred.cpu().numpy()\n",
    "y_true = test_Y_tensor.cpu().numpy()\n",
    "\n",
    "# Compute confusion matrix\n",
    "cm = confusion_matrix(y_true, y_pred)\n",
    "\n",
    "# Get class labels from the LabelEncoder\n",
    "class_labels = label_encoder.classes_\n",
    "\n",
    "fig, ax = plt.subplots(figsize=(12, 8))  #Creates both a figure and an ax\n",
    "\n",
    "disp = ConfusionMatrixDisplay(confusion_matrix=cm, display_labels=class_labels)\n",
    "disp.plot(cmap='Blues', values_format='d', ax=ax)\n",
    "\n",
    "# Rotate axis labels for better visibility\n",
    "plt.xticks(rotation=45)\n",
    "plt.yticks(rotation=45)\n",
    "\n",
    "# Show the plot\n",
    "plt.show()"
   ]
  },
  {
   "cell_type": "code",
   "execution_count": null,
   "id": "0cd35ae8-6d07-4480-ac58-1ed59db4db74",
   "metadata": {},
   "outputs": [],
   "source": [
    "import torch.nn.functional as F\n",
    "\n",
    "with torch.no_grad():\n",
    "    y_score = F.softmax(model(test_X_tensor), dim=1)"
   ]
  },
  {
   "cell_type": "code",
   "execution_count": null,
   "id": "10dcbd44-687c-45a2-9c00-879918c67e42",
   "metadata": {},
   "outputs": [],
   "source": [
    "np.average(y_score.numpy())"
   ]
  },
  {
   "cell_type": "code",
   "execution_count": null,
   "id": "bdcd8846-8af7-4fd7-9d88-9fefb32eb6ef",
   "metadata": {},
   "outputs": [],
   "source": [
    "from sklearn.preprocessing import LabelBinarizer\n",
    "\n",
    "label_binarizer = LabelBinarizer().fit(train_data_y)\n",
    "y_onehot_test = label_binarizer.transform(test_labels_encoded)\n",
    "y_onehot_test.shape  # (n_samples, n_classes)"
   ]
  },
  {
   "cell_type": "code",
   "execution_count": null,
   "id": "ff20700c-6029-414e-bac8-a661f60724a1",
   "metadata": {},
   "outputs": [],
   "source": [
    "from sklearn.metrics import RocCurveDisplay\n",
    "\n",
    "display = RocCurveDisplay.from_predictions(\n",
    "    y_onehot_test.ravel(),\n",
    "    y_score.ravel(),\n",
    "    name=\"micro-average OvR\",\n",
    "    color=\"darkorange\",\n",
    "    plot_chance_level=True)\n",
    "_ = display.ax_.set(\n",
    "    xlabel=\"False Positive Rate\",\n",
    "    ylabel=\"True Positive Rate\",\n",
    "    title=\"Micro-averaged One-vs-Rest\\nReceiver Operating Characteristic\",\n",
    ")"
   ]
  },
  {
   "cell_type": "code",
   "execution_count": null,
   "id": "78b16805-13a2-47e6-8c8d-cc677b5aa227",
   "metadata": {},
   "outputs": [],
   "source": []
  },
  {
   "cell_type": "code",
   "execution_count": null,
   "id": "4aa08a28-cb43-4ecb-924e-34c39a6b8702",
   "metadata": {},
   "outputs": [],
   "source": []
  },
  {
   "cell_type": "code",
   "execution_count": null,
   "id": "9686dbe6-e354-46d6-98e8-d9eb3f4e5949",
   "metadata": {},
   "outputs": [],
   "source": []
  },
  {
   "cell_type": "code",
   "execution_count": null,
   "id": "6d2d2a7e-e9a4-43a1-8731-3345a578a4d2",
   "metadata": {},
   "outputs": [],
   "source": []
  },
  {
   "cell_type": "code",
   "execution_count": null,
   "id": "bd505fb2-28cc-44a8-beb3-4baee288e02d",
   "metadata": {},
   "outputs": [],
   "source": []
  },
  {
   "cell_type": "code",
   "execution_count": null,
   "id": "49f79f78-753b-4d86-89bc-6f85eec05b4e",
   "metadata": {},
   "outputs": [],
   "source": []
  }
 ],
 "metadata": {
  "kernelspec": {
   "display_name": "Python 3 (ipykernel)",
   "language": "python",
   "name": "python3"
  },
  "language_info": {
   "codemirror_mode": {
    "name": "ipython",
    "version": 3
   },
   "file_extension": ".py",
   "mimetype": "text/x-python",
   "name": "python",
   "nbconvert_exporter": "python",
   "pygments_lexer": "ipython3",
   "version": "3.13.2"
  }
 },
 "nbformat": 4,
 "nbformat_minor": 5
}
